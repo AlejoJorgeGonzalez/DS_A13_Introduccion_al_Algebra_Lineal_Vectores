{
 "cells": [
  {
   "cell_type": "markdown",
   "source": [
    "# CLASE 12: FUNCIONES LINEALES"
   ],
   "metadata": {}
  },
  {
   "cell_type": "markdown",
   "source": [
    "# 5. Funciones Lineales"
   ],
   "metadata": {}
  },
  {
   "cell_type": "markdown",
   "source": [
    "La notación $f: \\mathbb{R}^{n}\\to \\mathbb{R}$ significa que $f$ es una función con **dominio** en $\\mathbb{R}^{n}$ e imagen en $\\mathbb{R}$, es decir, que toma un $n$-vector y lo convierte en un escalar.\n",
    "  \n",
    "La función puede denotarse como $f\\left(\\mathbf{x}\\right)= f\\left(x_{0},x_{1},\\dots,x_{n-1}\\right)$ donde $\\mathbf{x}\\in \\mathbb{R}^{n}$ y $x_{i}$ son las entradas del vector.  \n",
    "\n",
    "Es necesario enfatizar que $f(\\mathbf{x})$ es un escalar. "
   ],
   "metadata": {}
  },
  {
   "cell_type": "markdown",
   "source": [
    "Para describir una función $f: \\mathbb{R}^{n} \\to \\mathbb{R}$ tenemos que especificar el cual es el valor para cualquier vector $\\mathbf{x}\\in\\mathbb{R}^{n}$. Por ejemplo, sea $f: \\mathbb{R}^{4} \\to \\mathbb{R}$ definida por\n",
    "$$\n",
    "f(\\mathbf{x}) = x_{0} + x_{1} + x_{2} + x_{3}\n",
    "$$"
   ],
   "metadata": {}
  },
  {
   "cell_type": "markdown",
   "source": [
    "Así pues el valor de cualquier $4$-vector queda bien definido, por ejemplo:\n",
    "\n",
    "* $f(\\mathbf{0}) = 0 + 0+ 0+0 = 0$\n",
    "\n",
    "* $f([1\\; 0\\; 0\\; 0]) = 1+0+0+0 = 1$\n",
    "\n",
    "* $f([1\\; 1\\; 1\\; 1]) = 1+1+1+1 = 4$"
   ],
   "metadata": {}
  },
  {
   "cell_type": "code",
   "execution_count": 3,
   "source": [
    "# Se llama las librerías necesarias\n",
    "import numpy as np"
   ],
   "outputs": [],
   "metadata": {}
  },
  {
   "cell_type": "code",
   "execution_count": 6,
   "source": [
    "# Función para crear la función que aparece anteriormente\n",
    "def f(x):\n",
    "    # np.sum realiza el x[0] + x[1] + x[2] + x[3]\n",
    "    return np.sum(x)"
   ],
   "outputs": [],
   "metadata": {}
  },
  {
   "cell_type": "code",
   "execution_count": 7,
   "source": [
    "# Se evaluan diferentes vectores\n",
    "print('f(0):\\n', f(np.array([0,0,0,0])))\n",
    "print('f([1,0,0,0]):\\n', f(np.array([1,0,0,0])))\n",
    "print('f([1,1,1,1]):\\n', f(np.array([1,1,1,1])))"
   ],
   "outputs": [
    {
     "output_type": "stream",
     "name": "stdout",
     "text": [
      "f(0):\n",
      " 0\n",
      "f([1,0,0,0]):\n",
      " 1\n",
      "f([1,1,1,1]):\n",
      " 4\n"
     ]
    }
   ],
   "metadata": {}
  },
  {
   "cell_type": "markdown",
   "source": [
    "Como otro ejemplo, sea $g: \\mathbb{R}^{3} \\to \\mathbb{R}$ definida por \n",
    "$$\n",
    "g(\\mathbf{x}) = x_{0}\n",
    "$$"
   ],
   "metadata": {}
  },
  {
   "cell_type": "markdown",
   "source": [
    "Tenemos entonces:\n",
    "\n",
    "* $g(\\mathbf{0}) = 0$ \n",
    "\n",
    "* $g([0\\; 0\\; 1]) = 0$\n",
    "\n",
    "* $g([1\\; 0\\; 4]) = 1$"
   ],
   "metadata": {}
  },
  {
   "cell_type": "code",
   "execution_count": 8,
   "source": [
    "# Se crea la función g\n",
    "def g(x):\n",
    "    return x[0]"
   ],
   "outputs": [],
   "metadata": {}
  },
  {
   "cell_type": "code",
   "execution_count": 9,
   "source": [
    "print('g(0):\\n', g(np.array([0,0,0])))\n",
    "print('g([0,0,1]):\\n', g(np.array([0,0,1])))\n",
    "print('g([1,0,4]):\\n', g(np.array([1,0,4])))"
   ],
   "outputs": [
    {
     "output_type": "stream",
     "name": "stdout",
     "text": [
      "g(0):\n",
      " 0\n",
      "g([0,0,1]):\n",
      " 0\n",
      "g([1,0,4]):\n",
      " 1\n"
     ]
    }
   ],
   "metadata": {}
  },
  {
   "cell_type": "markdown",
   "source": [
    "Podemos notar que en este caso $f(\\mathbf{x})$ corresponde a la _función suma_ y $g(\\mathbf{x})$ a proyección sobre $x_{0}$."
   ],
   "metadata": {}
  },
  {
   "cell_type": "markdown",
   "source": [
    "# CLASE 13: ALGUNAS FUNCIONES LINEALES"
   ],
   "metadata": {}
  },
  {
   "cell_type": "markdown",
   "source": [
    "## 5.1 Algunas funciones"
   ],
   "metadata": {}
  },
  {
   "cell_type": "markdown",
   "source": [
    "**Función producto interno**. Si una función tiene como aurgmentos dos $n$-vectores el dominio de la función se expresará como $\\mathbb{R}^{n}\\times\\mathbb{R}^{n}$. Por ejemplo, sea $f:\\mathbb{R}^{n}\\times\\mathbb{R}^{n} \\to \\mathbb{R}$ definida por:\n",
    "\n",
    "$$\n",
    "f(\\mathbf{a},\\mathbf{b}) = a_{0}b_{0} + a_{1}b_{1} + \\cdots + a_{n-1}b_{n-1}\n",
    "$$"
   ],
   "metadata": {}
  },
  {
   "cell_type": "markdown",
   "source": [
    "Notemos que podemos expresar lo anterior como\n",
    "\n",
    "$$\n",
    "f(\\mathbf{a},\\mathbf{b}) = \\mathbf{a}^{T}\\cdot \\mathbf{b}\n",
    "$$\n",
    "\n",
    "Esta función recibe el nombre de función producto interno. Si quisieramos dejar fijo un vector, digamos el vector $\\mathbf{a}$ podemos recurrir a la siguiente notación:\n",
    "\n",
    "$$\n",
    "f_{\\mathbf{a}}(\\mathbf{b}) = \\mathbf{a}^{T}\\mathbf{b}\n",
    "$$\n",
    "\n",
    "Esto significará que $\\mathbf{a}$ estará fijo mientras que $\\mathbf{b}$ será el que variará. "
   ],
   "metadata": {}
  },
  {
   "cell_type": "markdown",
   "source": [
    "**Superposición y linealidad.** La función producto interno satisface la siguiente propiedad:\n",
    "\n",
    "$$\n",
    "\\begin{matrix}\n",
    "f_\\mathbf{x}(\\alpha\\mathbf{a}+\\beta\\mathbf{b})  & = & \\mathbf{x}^{T}(\\alpha\\mathbf{a}+\\beta\\mathbf{b}) \\\\ \n",
    "& = & \\mathbf{x}^{T}(\\alpha\\mathbf{a})+\\mathbf{x}^{T}(\\beta\\mathbf{b})\\\\\n",
    " & = & \\alpha(\\mathbf{x}^{T}\\mathbf{a}) + \\beta(\\mathbf{x}^{T}\\mathbf{b})\\\\\n",
    " & = & \\alpha f_{\\mathbf{x}}(\\mathbf{a}) + \\beta f_{\\mathbf{x}}(\\mathbf{b}) \n",
    "\\end{matrix}\n",
    "$$\n",
    "\n",
    "Si la función $g$ cumple que $g(\\alpha\\mathbf{x}+\\beta\\mathbf{y}) = \\alpha g(\\mathbf{x})+\\beta g(\\mathbf{y})$ decimos que la función $g$ es una **función lineal.** "
   ],
   "metadata": {}
  },
  {
   "cell_type": "markdown",
   "source": [
    "Si $f$ es una función lineal la _linearidad_ se extiende a cualquier combinación lineal y no solamente a una combinación de dos vectores, tenemos \n",
    "\n",
    "$$\n",
    "f(\\alpha_{0}\\mathbf{x_{0}} + \\alpha_{1}\\mathbf{x_{1}} + \\alpha_{2}\\mathbf{x_{2}} + \\cdots \n",
    " + \\alpha_{n-1}\\mathbf{x_{n-1}}) = \\alpha_{0}f(\\mathbf{x_{0}}) + \\alpha_{1}f(\\mathbf{x_{1}}) + \\alpha_{2}f(\\mathbf{x_{2}}) + \\cdots + \\alpha_{n-1}f(\\mathbf{x_{n-1}})\n",
    "$$\n"
   ],
   "metadata": {}
  },
  {
   "cell_type": "markdown",
   "source": [
    "Si una función $g:\\mathbf{R}^{n} \\to \\mathbf{R}$ es lineal sabemo que cumple $g(\\alpha\\mathbf{x}+\\beta\\mathbf{y}) = \\alpha g(\\mathbf{x})+\\beta g(\\mathbf{y})$, propiedad que llamaremos _superposición_. Ahora, la superposición puede ser separada en dos propiedades:\n",
    "\n",
    "* _Homogeneidad_. Para cualquier $n$-vector $\\mathbf{x}$ y cualquier escalar $\\alpha$ tenemos que $g(\\alpha \\mathbf{x}) = \\alpha g(\\mathbf{x})$\n",
    "\n",
    "* _Aditividad_. Para cualquier $n$-vector $\\mathbf{x}$ y $\\mathbf{y}$ tenemos que $g(\\mathbf{x}+\\mathbf{y}) = g(\\mathbf{x})+g(\\mathbf{y})$\n",
    "\n",
    "La homogeneidad nos dice que escalar el argumento es igual que escalar el valor de la función; la aditividad nos indica que sumar los argumentos es igual que sumar los valores de la función. "
   ],
   "metadata": {}
  },
  {
   "cell_type": "code",
   "execution_count": 10,
   "source": [
    "# Se comprueba si la función f creada anteriormente cumple con la\n",
    "# propiedad de la homogeneidad\n",
    "# Se crean los vectores\n",
    "a = np.array([1,1,1,1])\n",
    "b = np.array([1,0,1,0])\n",
    "# Se crean los escalares\n",
    "x,y = 1,-2"
   ],
   "outputs": [],
   "metadata": {}
  },
  {
   "cell_type": "code",
   "execution_count": 11,
   "source": [
    "print('x*a + y*b:\\n', x*a + y*b)\n",
    "print('f(x*a + y*b):\\n', f(x*a + y*b))\n",
    "print('x*f(a) + y*f(b):\\n', x*f(a) + y*f(b))"
   ],
   "outputs": [
    {
     "output_type": "stream",
     "name": "stdout",
     "text": [
      "x*a + y*b:\n",
      " [-1  1 -1  1]\n",
      "f(x*a + y*b):\n",
      " 0\n",
      "x*f(a) + y*f(b):\n",
      " 0\n"
     ]
    }
   ],
   "metadata": {}
  },
  {
   "cell_type": "markdown",
   "source": [
    "Se comprueba que la función cumple con la propiedad de la homogeneidad, por lo que es lineal."
   ],
   "metadata": {}
  },
  {
   "cell_type": "markdown",
   "source": [
    "# CLASE 14: UN TEOREMA EN FUNCIONES LINEALES"
   ],
   "metadata": {}
  },
  {
   "cell_type": "markdown",
   "source": [
    "## 5.1 Algunas funciones"
   ],
   "metadata": {}
  },
  {
   "cell_type": "markdown",
   "source": [
    "**Representación producto interno de una función lineal.** En matemáticas las verdades, cuando son verdades, se demuestran usando argumentos principalmente lógicos. Estas verdades vienen empaquetadas en _teoremas_, _corolarios_ y _lemas_. Si no podemos demostrarlo pero creemos que es verdad lo llamamos _conjetura_. Por ejemplo, consideremos el siguiente teorema:"
   ],
   "metadata": {}
  },
  {
   "cell_type": "markdown",
   "source": [
    "**Teorema.** Los ángulos a ambos lados de una recta, que intersecta a otra, siempre suman $180^\\circ$ \n",
    "\n",
    "![](imagenes/img3.png)"
   ],
   "metadata": {}
  },
  {
   "cell_type": "markdown",
   "source": [
    "*Demostración*: Supongamos que $\\alpha + \\beta \\neq 180$ eso quiere decir que $\\alpha + \\beta > 180$ o $\\alpha + \\beta < 180$. Ahora, pensemos en la linea **f** pasa por el diámetro, es decir, corta a la mitad al círculo. \n",
    "\n",
    "![](imagenes/img4.png)\n",
    "\n",
    "Al pasar por el diámetro sabemos que ambos lados tenemos un ángulo de $180^\\circ$. Llamemos a ese ángulo $\\Omega=180^\\circ$. Ahora, llamemos **g** a una línea que pase por otro diámetro. \n",
    "\n",
    "![](imagenes/img5.png)"
   ],
   "metadata": {}
  },
  {
   "cell_type": "markdown",
   "source": [
    "Entonces, al seccionar con **g** tenemos nuevamente los ángulos $\\alpha$ y $\\beta$ entonces tenemos que $\\alpha + \\beta = \\Omega$ pero asumimos que $\\alpha + \\beta \\neq 180^\\circ$ lo cuyal nos lleva a una contradicción $!$ por ello lo anteior debe ser cierto.  "
   ],
   "metadata": {}
  },
  {
   "cell_type": "markdown",
   "source": [
    "**Corolario.** Cuando dos líneas se intersectan los ángulos opuestos entre ellos son iguales.\n",
    "\n",
    "![](imagenes/img6.png)"
   ],
   "metadata": {}
  },
  {
   "cell_type": "markdown",
   "source": [
    "*Demostración:* Sabemos que $\\beta + \\alpha = 180^\\circ$ entonces $\\alpha = 180^\\circ - \\beta$. Por otro lado, sabemos que también $\\gamma + \\beta = 180^\\circ$ así pues $\\gamma = 180^\\circ - \\beta$. Juntando lo anteior tenemos que:\n",
    "\n",
    "$$\n",
    "\\alpha  =  180^\\circ - \\beta = \\gamma\n",
    "$$\n",
    "\n",
    "Lo mismo es posible aplicarse para $\\beta$ y $\\delta$. **QED**. "
   ],
   "metadata": {}
  },
  {
   "cell_type": "markdown",
   "source": [
    "Ya explorados los teoremas y los corolarios veamos la siguiente proposición:  \n",
    "\n",
    "**Proposición:** Una función definida como el producto punto de sus argumentos y algún vector fijo es lineal. Lo inverso es también verdadero: si una función es lineal entonces puede ser expresada como el producto interno de sus argumentos y algún vector fijo."
   ],
   "metadata": {}
  },
  {
   "cell_type": "markdown",
   "source": [
    "Ahora, sea $f$ una función escalar de $n$-vectores que además es lineal. Entonces decimos que _existe_ un $n$-vector $\\mathbf{a}$ tal que $f(\\mathbf{x}) = \\mathbf{a}^{T}\\mathbf{x}$ para cualquier $\\mathbf{x}$. A la expresión $\\mathbf{a}^{T}\\mathbf{x}$ le llamaremos *representación producto punto* de $f$. "
   ],
   "metadata": {}
  },
  {
   "cell_type": "markdown",
   "source": [
    "Otra propiedad interesante es que la *representación producto punto* de $f$ como $\\mathbf{a}^{T}\\mathbf{x}$ es única. "
   ],
   "metadata": {}
  },
  {
   "cell_type": "markdown",
   "source": [
    "$ f(\\mathbf{x}) = \\displaystyle\\sum_{i}^{n-1} x_{i}$ si n=4 esto lo podemos expresar como $f(\\mathbf{x}) = \\mathbf{a}^{T}\\mathbf{x}$ donde:\n",
    "$$\n",
    "a^T = [1,1,1,1]\n",
    "$$"
   ],
   "metadata": {}
  },
  {
   "cell_type": "markdown",
   "source": [
    "**Promedio.** El promedio de una $n$-vector es definida como\n",
    "\n",
    "$$\n",
    "f(x) = (x_{0}+x_{1}+\\cdots+x_{n-1})/n\n",
    "$$\n",
    "\n",
    "Y se denota como $\\mathbf{avg}(x)$, notemos que este $\\mathbf{avg}(x) = a^{T}x$ con\n",
    "\n",
    "$$\n",
    "a^T = [1/n\\; 1/n\\; \\cdots \\; 1/n] = \\mathbf{1}/n\n",
    "$$"
   ],
   "metadata": {}
  },
  {
   "cell_type": "markdown",
   "source": [
    "**Máximo.** Para $n$-vectores $x$ la función que nos da el máximo coeficiente de un vector es $f(x)=max\\{x_{0},x_{1},\\dots,x_{n-1}\\}$ y no es lineal. Para demostrar esto voy a suponer que es lineal y dar un contraejemplo. Si tomamos $x^T = [1,-1]$ y $y^T=[-1,1]$ con $\\alpha = 1/2$ y $\\beta = 1/2$. Entonces tenemos que:\n",
    "\n",
    "$$\n",
    "f(\\alpha x + \\beta y) = 0 \\neq \\alpha f(x) + \\beta f(y) = 1\n",
    "$$"
   ],
   "metadata": {}
  },
  {
   "cell_type": "code",
   "execution_count": 12,
   "source": [
    "# Se comprueba la linealidad de la función máximo\n",
    "# función para hallar el número maximo\n",
    "def MAX(x):\n",
    "    return np.max(x)"
   ],
   "outputs": [],
   "metadata": {}
  },
  {
   "cell_type": "code",
   "execution_count": 13,
   "source": [
    "print('MAX([1,0,2]):\\n', MAX(np.array([1,0,2])))"
   ],
   "outputs": [
    {
     "output_type": "stream",
     "name": "stdout",
     "text": [
      "MAX([1,0,2]):\n",
      " 2\n"
     ]
    }
   ],
   "metadata": {}
  },
  {
   "cell_type": "markdown",
   "source": [
    "La función creada funciona correctamente"
   ],
   "metadata": {}
  },
  {
   "cell_type": "code",
   "execution_count": 15,
   "source": [
    "# Se crean los vectores\n",
    "x = np.array([1,-1])\n",
    "y = np.array([-1,1])\n",
    "# Se crean los escalares\n",
    "alpha, beta = 1/2, 1/2"
   ],
   "outputs": [],
   "metadata": {}
  },
  {
   "cell_type": "code",
   "execution_count": 18,
   "source": [
    "print('MAX(alpha*x + beta*y):\\n', MAX(alpha*x + beta*y))\n",
    "print('MAX(alpha*x) + MAX(beta*y):\\n', MAX(alpha*x) + MAX(beta*y))\n"
   ],
   "outputs": [
    {
     "output_type": "stream",
     "name": "stdout",
     "text": [
      "MAX(alpha*x + beta*y):\n",
      " 0.0\n",
      "MAX(alpha*x) + MAX(beta*y):\n",
      " 1.0\n"
     ]
    }
   ],
   "metadata": {}
  },
  {
   "cell_type": "markdown",
   "source": [
    "La función MAX no cumple con la propiedad de la superposición, por tanto no es una función líneal."
   ],
   "metadata": {}
  },
  {
   "cell_type": "markdown",
   "source": [
    "# CLASE 15: FUNCIONES AFINES"
   ],
   "metadata": {}
  },
  {
   "cell_type": "markdown",
   "source": [
    "## 5.2 Algunas consideraciones"
   ],
   "metadata": {}
  },
  {
   "cell_type": "markdown",
   "source": [
    "**Funciones Afines.** Una función $f:\\mathbb{R}^{n} \\to \\mathbb{R}$ es afín si y solo si puede ser expresada como $f(x) = a^{T}x + b$ para algún $n$-vector $a$ y un escalar $b$, es llamado algunas veces *offset* o *bias*. Por ejemplo si consideramos la siguiente función:\n",
    "\n",
    "$$\n",
    "f(x) = 3 + x_{0}+x_{1}+x_{2}\n",
    "$$\n",
    "\n",
    "La podemos representar como \n",
    "\n",
    "$$\n",
    "f(x) = a^T x + b = [1 \\; 1 \\; 1] x + 3\n",
    "$$"
   ],
   "metadata": {}
  },
  {
   "cell_type": "markdown",
   "source": [
    "Una función afín cumplirá la superposición si y solo si la suma de de los coeficientes de la combinación lineal es uno. Es decir, si $f$ es una función afín entonces $f(\\alpha x + \\beta y) = \\alpha f(x)+ \\beta f(y)$ si y solo si $  \\alpha + \\beta = 1$.\n",
    "\n",
    "*Demostración.* Como $f$ es afín tenemos que $f(x)=a^T x + b$  entonces, usando que $  \\alpha + \\beta = 1$\n",
    "\n",
    "$$\n",
    "\\begin{matrix}\n",
    "f(\\alpha x + \\beta y) &=& a^T (\\alpha x + \\beta y) + b \\\\\n",
    " &=& a^T \\alpha x + a^T \\beta y + (\\alpha + \\beta) b \\\\\n",
    " &=& \\alpha a^T x + \\alpha b + \\beta a^T y + \\beta b \\\\\n",
    " &=& \\alpha (a^T x + b) + \\beta (a^T y + b) \\\\\n",
    " &=& \\alpha f(x) + \\beta f(y)\n",
    "\\end{matrix}\n",
    "$$"
   ],
   "metadata": {}
  },
  {
   "cell_type": "markdown",
   "source": [
    "**Ejercicio.** Determina si las siguientes funciones son lineales o no:\n",
    "* $f(\\mathbf{x}) = x_{n-1} - x_{0}$\n",
    "\n",
    "**Solución**"
   ],
   "metadata": {}
  },
  {
   "cell_type": "code",
   "execution_count": 1,
   "source": [
    "# Se crea la función\n",
    "def fa(x):\n",
    "    n = len(x)\n",
    "    return x[n-1] - x[0]"
   ],
   "outputs": [],
   "metadata": {}
  },
  {
   "cell_type": "code",
   "execution_count": 8,
   "source": [
    "# Se crean los vectores\n",
    "x = np.array([1,2,3,4])\n",
    "y = np.array([5,6,7,8])\n",
    "# Se crean los escalares\n",
    "alpha = 1\n",
    "beta = 2"
   ],
   "outputs": [],
   "metadata": {}
  },
  {
   "cell_type": "code",
   "execution_count": 9,
   "source": [
    "# Se comprueba las función \n",
    "print('f(alpha*x + beta*y):\\n', fa(alpha*x + beta*y))\n",
    "print('f(alpha*x) + f(beta*y):\\n', fa(alpha*x) + fa(beta*y))"
   ],
   "outputs": [
    {
     "output_type": "stream",
     "name": "stdout",
     "text": [
      "f(alpha*x + beta*y):\n",
      " 9\n",
      "f(alpha*x) + f(beta*y):\n",
      " 9\n"
     ]
    }
   ],
   "metadata": {}
  },
  {
   "cell_type": "markdown",
   "source": [
    "La función cumple con la propiedad de la superposición, por tanto es una función lineal"
   ],
   "metadata": {}
  },
  {
   "cell_type": "markdown",
   "source": [
    "**Ejercicio.** Determina si las siguientes funciones son lineales o no:\n",
    "\n",
    "* Si $\\mathbf{x}\\in\\mathbb{R}^{4}$ y $f:\\mathbb{R}^{4} \\to \\mathbb{R}$ definida como $f(\\mathbf{x})=x_{3}+(x_{3}-x_{2})$\n",
    "\n",
    "**Solución**\n"
   ],
   "metadata": {}
  },
  {
   "cell_type": "code",
   "execution_count": 10,
   "source": [
    "# Se crea la función\n",
    "def fb(x):\n",
    "    n = len(x)\n",
    "    if n == 4:\n",
    "        return x[3] + (x[3] - x[2])\n",
    "    else:\n",
    "        print('Se requiere vectores en R4')"
   ],
   "outputs": [],
   "metadata": {}
  },
  {
   "cell_type": "code",
   "execution_count": 11,
   "source": [
    "# Se crean los vectores\n",
    "x = np.array([1,2,3,4])\n",
    "y = np.array([5,6,7,8])\n",
    "# Se crean los escalares\n",
    "alpha = 1\n",
    "beta = 2"
   ],
   "outputs": [],
   "metadata": {}
  },
  {
   "cell_type": "code",
   "execution_count": 13,
   "source": [
    "# Se comprueba las función \n",
    "print('f(alpha*x + beta*y):\\n', fb(alpha*x + beta*y))\n",
    "print('f(alpha*x) + f(beta*y):\\n', fb(alpha*x) + fa(beta*y))"
   ],
   "outputs": [
    {
     "output_type": "stream",
     "name": "stdout",
     "text": [
      "f(alpha*x + beta*y):\n",
      " 23\n",
      "f(alpha*x) + f(beta*y):\n",
      " 11\n"
     ]
    }
   ],
   "metadata": {}
  },
  {
   "cell_type": "markdown",
   "source": [
    "La función no cumple con la propiedad de la superposición, por tanto no es una función lineal."
   ],
   "metadata": {}
  },
  {
   "cell_type": "markdown",
   "source": [
    "**Problema: Potencia en un clúster de procesadores y temperatura.** La temperatura $T$ de un cluster de tres procesadores es una función afín de la potencia de los procesadores $P^T = [P_{0}\\; P_{1}\\; P_{2}]$. Cuando los tres procesadores están en reposo tenemos que $P^T = [10\\; 10\\; 10]$ lo cual nos da una temperatura de $T=35$. Cuando el primer procesador opera a potencia absoluta tenemos que $P^T = [100\\; 10\\; 10]$ y la temperatura se eleva a $T=60$. Cuando el segundo procesador opera a su máxima capacidad tenemos $P^T = [10\\; 100\\; 10]$ y la temperatura se eleva a $T=75$. Cuando el tercer procesador opera a máxima potencia mientras que los otros dos están en reposo tenemos que $P^T = [10\\; 10\\; 100]$ y la temperatura se elevea a $T=65$. Supongamos que los tres procesadores operan a máxima potencia ¿Qué temperatura se alcanza? La temperatura de fusión de los procesadores (a la que los procesadores se derriten) es cerca de $150$ ¿Cuál es la potencia máxima que pueden alcanzar los procesadores para que $T\\le 150$?  \n",
    "*Hint:* $T(P) = a^T P + b$"
   ],
   "metadata": {}
  },
  {
   "cell_type": "markdown",
   "source": [
    "**Solución**\n",
    "\n",
    "Primero se escribe un sistema de ecuaciones que represente la ecuación $T(P) = a^T P + b$, con los valores dados en el ejemplo:\n",
    "\n",
    "$$\n",
    "\\begin{matrix}\n",
    "10a_0 + 10a_1 + 10a_2 + b &=& 35 \\\\ \n",
    "100a_0 + 10a_1 + 10a_2 + b &=& 60 \\\\ \n",
    "10a_0 + 100a_1 + 10a_2 + b &=& 75 \\\\ \n",
    "10a_0 + 10a_1 + 100a_2 + b &=& 65 \n",
    "\\end{matrix}\n",
    "$$\n",
    "\n",
    "Se tiene un sistema de 4 ecuaciones con 4 incognitas, por tanto se puede escribir de forma matricial (Tambien se puede realizar despejando variablese) de la siguiente forma.\n",
    "\n",
    "$$\n",
    "\\begin{bmatrix}\n",
    "10 & 10 & 10 & 1 \\\\ \n",
    "100 & 10 & 10 & 1 \\\\ \n",
    "10 & 100 & 10 & 1 \\\\ \n",
    "10 & 10 & 100 & 1 \n",
    "\\end{bmatrix}\\cdot\n",
    "\\begin{bmatrix}\n",
    "a_0 \\\\ a_1 \\\\ a_2 \\\\ b\n",
    "\\end{bmatrix}=\n",
    "\\begin{bmatrix}\n",
    "35 \\\\ 60 \\\\ 75 \\\\ 65\n",
    "\\end{bmatrix}\n",
    "$$\n",
    "\n",
    "A la matriz de 4x4 se le llamara $X$, al vector con las incognitas como $const$ y al vector con las soluciones como $sol$, se escribe esto en python."
   ],
   "metadata": {}
  },
  {
   "cell_type": "code",
   "execution_count": 36,
   "source": [
    "# Matriz\n",
    "X = np.array([[10,10,10,1],\n",
    "              [100,10,10,1],\n",
    "              [10,100,10,1],\n",
    "              [10,10,100,1]])\n",
    "\n",
    "sol = np.array([35,60,75,65])\n",
    "\n",
    "print('X:\\n', X)\n",
    "print('sol:\\n', sol)"
   ],
   "outputs": [
    {
     "output_type": "stream",
     "name": "stdout",
     "text": [
      "X:\n",
      " [[ 10  10  10   1]\n",
      " [100  10  10   1]\n",
      " [ 10 100  10   1]\n",
      " [ 10  10 100   1]]\n",
      "sol:\n",
      " [35 60 75 65]\n"
     ]
    }
   ],
   "metadata": {}
  },
  {
   "cell_type": "markdown",
   "source": [
    "Por tanto se tiene un sistema:\n",
    "\n",
    "$$\n",
    "X\\cdot const = sol\n",
    "$$\n",
    "\n",
    "Se le aplica la inversa de X a ambos lados, cancelando la X en el lado izquierdo, dejando solo el vector con las incognitas\n",
    "\n",
    "$$\n",
    "X^{-1}\\cdot X\\cdot const = X^{-1}\\cdot sol\\newline\n",
    "const = X^{-1}\\cdot sol\n",
    "$$\n",
    "\n",
    "En python esto queda como:\n"
   ],
   "metadata": {}
  },
  {
   "cell_type": "code",
   "execution_count": 47,
   "source": [
    "# Inversa de X\n",
    "X_inv = np.linalg.inv(X)\n",
    "# Se halla los valores de la incognitas\n",
    "const = X_inv.dot(sol)\n",
    "print('const:\\n', const)"
   ],
   "outputs": [
    {
     "output_type": "stream",
     "name": "stdout",
     "text": [
      "const:\n",
      " [ 0.27777778  0.44444444  0.33333333 24.44444444]\n"
     ]
    }
   ],
   "metadata": {}
  },
  {
   "cell_type": "markdown",
   "source": [
    "La función para hallar la temperatura según la potencia de los procesadores esta dada por\n",
    "\n",
    "$$\n",
    "T(P) = a^T P + b\n",
    "$$\n",
    "\n",
    "El vector hallado $const$ esta compuesto por \n",
    "\n",
    "$$\n",
    "const = [a_0, a_1, a_2, b]\n",
    "$$\n",
    "\n",
    "El vector a esta compuesto por los primeros tres elemento y b por el último elemento, por tanto, escribimos esto en python\n"
   ],
   "metadata": {}
  },
  {
   "cell_type": "code",
   "execution_count": 50,
   "source": [
    "a = const[0:3]\n",
    "b = const[3]\n",
    "print('a:\\n', a)\n",
    "print('b:\\n', b)\n"
   ],
   "outputs": [
    {
     "output_type": "stream",
     "name": "stdout",
     "text": [
      "a:\n",
      " [0.27777778 0.44444444 0.33333333]\n",
      "b:\n",
      " 24.44444444444444\n"
     ]
    }
   ],
   "metadata": {}
  },
  {
   "cell_type": "markdown",
   "source": [
    "Con los vectores $a$ y $b$, ya se tiene los vectores constantes para hallar la temperatura solamente falta crear la función que depende únicamente del vector de la potencia de los procesadores \n",
    "\n",
    "$$\n",
    "T(P) = a^T P + b\n",
    "$$"
   ],
   "metadata": {}
  },
  {
   "cell_type": "code",
   "execution_count": 51,
   "source": [
    "def temp(a, b, P):\n",
    "    return a.T.dot(P) + b"
   ],
   "outputs": [],
   "metadata": {}
  },
  {
   "cell_type": "markdown",
   "source": [
    "Se comprueba la temperaturas con los valores de la potencias dadas en el enunciado"
   ],
   "metadata": {}
  },
  {
   "cell_type": "code",
   "execution_count": 54,
   "source": [
    "print('T(P) para P[10,10,10]:\\n', temp(a, b, np.array([10,10,10])))\n",
    "print('T(P) para P[100,10,10]:\\n', temp(a, b, np.array([100,10,10])))\n",
    "print('T(P) para P[10,100,10]:\\n', temp(a, b, np.array([10,100,10])))\n",
    "print('T(P) para P[10,10,100]:\\n', temp(a, b, np.array([10,10,100])))"
   ],
   "outputs": [
    {
     "output_type": "stream",
     "name": "stdout",
     "text": [
      "T(P) para P[10,10,10]:\n",
      " 35.0\n",
      "T(P) para P[100,10,10]:\n",
      " 60.000000000000014\n",
      "T(P) para P[10,100,10]:\n",
      " 75.00000000000001\n",
      "T(P) para P[10,10,100]:\n",
      " 65.0\n"
     ]
    }
   ],
   "metadata": {}
  },
  {
   "cell_type": "markdown",
   "source": [
    "Se puede observar que el sistema funciona correctamente.\n",
    "\n",
    "Supongamos que los tres procesadores operan a máxima potencia ¿Qué temperatura se alcanza? "
   ],
   "metadata": {}
  },
  {
   "cell_type": "code",
   "execution_count": 55,
   "source": [
    "print('T(P) para P[100,100,100]:\\n', temp(a, b, np.array([100,100,100])))"
   ],
   "outputs": [
    {
     "output_type": "stream",
     "name": "stdout",
     "text": [
      "T(P) para P[100,100,100]:\n",
      " 130.0\n"
     ]
    }
   ],
   "metadata": {}
  },
  {
   "cell_type": "markdown",
   "source": [
    "A máxima potencia se alcanza los 130°\n",
    "\n",
    "La temperatura de fusión de los procesadores (a la que los procesadores se derriten) es cerca de $150$ ¿Cuál es la potencia máxima que pueden alcanzar los procesadores para que $T\\le 150$? "
   ],
   "metadata": {}
  },
  {
   "cell_type": "code",
   "execution_count": 58,
   "source": [
    "print('T(P) para P[120,120,120]:\\n', temp(a, b, np.array([120,120,120])))"
   ],
   "outputs": [
    {
     "output_type": "stream",
     "name": "stdout",
     "text": [
      "T(P) para P[120,120,120]:\n",
      " 151.11111111111111\n"
     ]
    }
   ],
   "metadata": {}
  },
  {
   "cell_type": "markdown",
   "source": [
    "La potencia máxima para derretir los procesadores es de 120."
   ],
   "metadata": {}
  }
 ],
 "metadata": {
  "kernelspec": {
   "name": "python3",
   "display_name": "Python 3.8.10 64-bit ('venv': venv)"
  },
  "language_info": {
   "codemirror_mode": {
    "name": "ipython",
    "version": 3
   },
   "file_extension": ".py",
   "mimetype": "text/x-python",
   "name": "python",
   "nbconvert_exporter": "python",
   "pygments_lexer": "ipython3",
   "version": "3.8.10"
  },
  "interpreter": {
   "hash": "402c3ce22046ee1ecb4526ff3875833594eb9f670609218e3d751b8e7c24a0d0"
  }
 },
 "nbformat": 4,
 "nbformat_minor": 4
}