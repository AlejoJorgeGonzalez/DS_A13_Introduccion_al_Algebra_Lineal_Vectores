{
 "cells": [
  {
   "cell_type": "markdown",
   "source": [
    "# FUNCIONES LINEALES"
   ],
   "metadata": {}
  },
  {
   "cell_type": "markdown",
   "source": [
    "# 5. Funciones Lineales"
   ],
   "metadata": {}
  },
  {
   "cell_type": "markdown",
   "source": [
    "La notación $f: \\mathbb{R}^{n}\\to \\mathbb{R}$ significa que $f$ es una función con **dominio** en $\\mathbb{R}^{n}$ e imagen en $\\mathbb{R}$, es decir, que toma un $n$-vector y lo convierte en un escalar.\n",
    "  \n",
    "La función puede denotarse como $f\\left(\\mathbf{x}\\right)= f\\left(x_{0},x_{1},\\dots,x_{n-1}\\right)$ donde $\\mathbf{x}\\in \\mathbb{R}^{n}$ y $x_{i}$ son las entradas del vector.  \n",
    "\n",
    "Es necesario enfatizar que $f(\\mathbf{x})$ es un escalar. "
   ],
   "metadata": {}
  },
  {
   "cell_type": "markdown",
   "source": [
    "Para describir una función $f: \\mathbb{R}^{n} \\to \\mathbb{R}$ tenemos que especificar el cual es el valor para cualquier vector $\\mathbf{x}\\in\\mathbb{R}^{n}$. Por ejemplo, sea $f: \\mathbb{R}^{4} \\to \\mathbb{R}$ definida por\n",
    "$$\n",
    "f(\\mathbf{x}) = x_{0} + x_{1} + x_{2} + x_{3}\n",
    "$$"
   ],
   "metadata": {}
  },
  {
   "cell_type": "markdown",
   "source": [
    "Así pues el valor de cualquier $4$-vector queda bien definido, por ejemplo:\n",
    "\n",
    "* $f(\\mathbf{0}) = 0 + 0+ 0+0 = 0$\n",
    "\n",
    "* $f([1\\; 0\\; 0\\; 0]) = 1+0+0+0 = 1$\n",
    "\n",
    "* $f([1\\; 1\\; 1\\; 1]) = 1+1+1+1 = 4$"
   ],
   "metadata": {}
  },
  {
   "cell_type": "code",
   "execution_count": 1,
   "source": [
    "# Se llama las librerías necesarias\n",
    "import numpy as np"
   ],
   "outputs": [],
   "metadata": {}
  },
  {
   "cell_type": "code",
   "execution_count": 2,
   "source": [
    "# Función para crear la función que aparece anteriormente\n",
    "def f(x):\n",
    "    # np.sum realiza el x[0] + x[1] + x[2] + x[3]\n",
    "    return np.sum(x)"
   ],
   "outputs": [],
   "metadata": {}
  },
  {
   "cell_type": "code",
   "execution_count": 5,
   "source": [
    "# Se evaluan diferentes vectores\n",
    "print('f(0):\\n', f(np.array([0,0,0,0])))\n",
    "print('f([1,0,0,0]):\\n', f(np.array([1,0,0,0])))\n",
    "print('f([1,1,1,1]):\\n', f(np.array([1,1,1,1])))"
   ],
   "outputs": [
    {
     "output_type": "stream",
     "name": "stdout",
     "text": [
      "f(0):\n",
      " 0\n",
      "f([1,0,0,0]):\n",
      " 1\n",
      "f([1,1,1,1]):\n",
      " 4\n"
     ]
    }
   ],
   "metadata": {}
  },
  {
   "cell_type": "markdown",
   "source": [
    "Como otro ejemplo, sea $g: \\mathbb{R}^{3} \\to \\mathbb{R}$ definida por \n",
    "$$\n",
    "g(\\mathbf{x}) = x_{0}\n",
    "$$"
   ],
   "metadata": {}
  },
  {
   "cell_type": "markdown",
   "source": [
    "Tenemos entonces:\n",
    "\n",
    "* $g(\\mathbf{0}) = 0$ \n",
    "\n",
    "* $g([0\\; 0\\; 1]) = 0$\n",
    "\n",
    "* $g([1\\; 0\\; 4]) = 1$"
   ],
   "metadata": {}
  },
  {
   "cell_type": "code",
   "execution_count": 6,
   "source": [
    "# Se crea la función g\n",
    "def g(x):\n",
    "    return x[0]"
   ],
   "outputs": [],
   "metadata": {}
  },
  {
   "cell_type": "code",
   "execution_count": 8,
   "source": [
    "print('g(0):\\n', g(np.array([0,0,0])))\n",
    "print('g([0,0,1]):\\n', g(np.array([0,0,1])))\n",
    "print('g([1,0,4]):\\n', g(np.array([1,0,4])))"
   ],
   "outputs": [
    {
     "output_type": "stream",
     "name": "stdout",
     "text": [
      "g(0):\n",
      " 0\n",
      "g([0,0,1]):\n",
      " 0\n",
      "g([1,0,4]):\n",
      " 1\n"
     ]
    }
   ],
   "metadata": {}
  },
  {
   "cell_type": "markdown",
   "source": [
    "Podemos notar que en este caso $f(\\mathbf{x})$ corresponde a la _función suma_ y $g(\\mathbf{x})$ a proyección sobre $x_{0}$."
   ],
   "metadata": {}
  },
  {
   "cell_type": "markdown",
   "source": [
    "## Enlaces Externos\n",
    "\n",
    "[Colab Original](https://colab.research.google.com/drive/1uHLHnGyq5fgP917lwwh3JDNhNtr3EZhw?usp=sharing)"
   ],
   "metadata": {}
  }
 ],
 "metadata": {
  "kernelspec": {
   "name": "python3",
   "display_name": "Python 3.8.10 64-bit ('venv': venv)"
  },
  "language_info": {
   "codemirror_mode": {
    "name": "ipython",
    "version": 3
   },
   "file_extension": ".py",
   "mimetype": "text/x-python",
   "name": "python",
   "nbconvert_exporter": "python",
   "pygments_lexer": "ipython3",
   "version": "3.8.10"
  },
  "interpreter": {
   "hash": "402c3ce22046ee1ecb4526ff3875833594eb9f670609218e3d751b8e7c24a0d0"
  }
 },
 "nbformat": 4,
 "nbformat_minor": 4
}