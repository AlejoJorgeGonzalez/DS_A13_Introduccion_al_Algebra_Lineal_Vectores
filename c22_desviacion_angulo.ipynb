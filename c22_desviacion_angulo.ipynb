{
 "cells": [
  {
   "cell_type": "markdown",
   "source": [
    "# CLASE 22: DESVIACIÓN ESTÁNDAR"
   ],
   "metadata": {}
  },
  {
   "cell_type": "markdown",
   "source": [
    "# 9. Desviaciones estándar y Ángulos"
   ],
   "metadata": {}
  },
  {
   "cell_type": "markdown",
   "source": [
    "Para cualquier vector $\\mathbf{x}$ podemos definir el vector $\\tilde{\\mathbf{x}} = \\mathbf{x} - avg(\\mathbf{x})\\mathbf{1}$, mismo que cumple con la propiedad de que $avg(\\tilde{\\mathbf{x}})=0$ . A este vector se le llama *vector de-meaned* lo cual significa que le quitamos su promedio. Este vector nos va a ser muy útil para ver cómo se distribuyen los elementos del vector del valor promedio del vector. "
   ],
   "metadata": {}
  },
  {
   "cell_type": "markdown",
   "source": [
    "Así pues, vamos a definir también la *desviación estándar* de un $n$-vector $\\mathbf{x}$ como el RMS del vector de-meaned:\n",
    "\n",
    "$$\n",
    "std(\\mathbf{x}) = \\displaystyle\\sqrt{\\frac{(x_{0}-avg(\\mathbf{x}))^2 + (x_{1}-avg(\\mathbf{x}))^2 + \\cdots + (x_{n-1}-avg(\\mathbf{x}))^2 }{n}} \\newline = \\displaystyle\\frac{|| \\mathbf{x} - (\\mathbf{1}^{T}\\mathbf{x}/n)\\mathbf{1} ||}{\\sqrt{n}}\n",
    "$$\n",
    "\n",
    "La desviación estándar de un vector $\\mathbf{x}$ nos dice la cantidad típica por la cual cada una de las entradas se desvía del promedio del vector. \n",
    "\n",
    "![](imagenes/img10.png)\n",
    "\n",
    "**Por Demostrar:** $std(\\mathbf{x}) = 0$ si y solamente si $\\mathbf{x} = \\alpha \\mathbf{1}$\n",
    "\n",
    "Notemos que si $std(\\mathbf{x})\\approx 0$ entonces las entradas son similares."
   ],
   "metadata": {}
  },
  {
   "cell_type": "markdown",
   "source": [
    "Ahora, consideremos el vector $\\mathbf{x}^{T} = [1,-2,3,2]$ con lo cual obtenemos $avg(\\mathbf{x})=1$. El vector de-meaned es $\\tilde{\\mathbf{x}}^{T} = [0,-3,2,1]$ y $std(\\mathbf{x}) = 1.87$"
   ],
   "metadata": {}
  },
  {
   "cell_type": "code",
   "execution_count": 2,
   "source": [
    "# Se importa las librerías necesarias\n",
    "import numpy as np"
   ],
   "outputs": [],
   "metadata": {}
  },
  {
   "cell_type": "code",
   "execution_count": 5,
   "source": [
    "# Se crea el vector X\n",
    "x = np.array([1, -2, 3, 2])\n",
    "\n",
    "# La función mean de numpy arroja el promedio del vector\n",
    "print('np.mean:\\n', np.mean(x))\n",
    "\n",
    "# Se halla el x tilde \n",
    "x_t = x - np.mean(x)*np.array([1,1,1,1])\n",
    "print('x_t:\\n', x_t)\n",
    "print('x_t mean:\\n', np.mean(x_t))"
   ],
   "outputs": [
    {
     "output_type": "stream",
     "name": "stdout",
     "text": [
      "np.mean:\n",
      " 1.0\n",
      "x_t:\n",
      " [ 0. -3.  2.  1.]\n",
      "x_t mean:\n",
      " 0.0\n"
     ]
    }
   ],
   "metadata": {}
  },
  {
   "cell_type": "markdown",
   "source": [
    "Ahora se halla la desviación estandar"
   ],
   "metadata": {}
  },
  {
   "cell_type": "code",
   "execution_count": 6,
   "source": [
    "# Se halla la desviación estandar\n",
    "np.linalg.norm(x_t)/np.sqrt(len(x_t))"
   ],
   "outputs": [
    {
     "output_type": "execute_result",
     "data": {
      "text/plain": [
       "1.8708286933869707"
      ]
     },
     "metadata": {},
     "execution_count": 6
    }
   ],
   "metadata": {}
  },
  {
   "cell_type": "code",
   "execution_count": 7,
   "source": [
    "# La función de numpy para hallar la desviación estandar es std\n",
    "np.std(x)"
   ],
   "outputs": [
    {
     "output_type": "execute_result",
     "data": {
      "text/plain": [
       "1.8708286933869707"
      ]
     },
     "metadata": {},
     "execution_count": 7
    }
   ],
   "metadata": {}
  },
  {
   "cell_type": "markdown",
   "source": [
    "Es usual encontrar en otros materiales que se refieren al promedio como $\\mu$ y la desviación estándar por $\\sigma$ y además quedan expresados como:\n",
    "\n",
    "$$\n",
    "\\mu = \\frac{1}{n}\\mathbf{1}^{T} \\mathbf{x}, \\qquad \\sigma = \\displaystyle\\frac{|| \\mathbf{x} - \\mu \\mathbf{1}||}{\\sqrt{n-1}}\n",
    "$$"
   ],
   "metadata": {}
  },
  {
   "cell_type": "markdown",
   "source": [
    "**Promedio, RMS y desviación estándar.** Hay una relación que estas tres cantidad cumplen\n",
    "\n",
    "$$\n",
    "rms(\\mathbf{x})^2 = avg(x)^2 + std(x)^2\n",
    "$$"
   ],
   "metadata": {}
  },
  {
   "cell_type": "markdown",
   "source": [
    "## Enlaces Externos\n",
    "\n",
    "[Colab Original](https://colab.research.google.com/drive/1FSyuYc9uEqd-84pecq84Ez6HKoRm1JPZ?usp=sharing)\n"
   ],
   "metadata": {}
  }
 ],
 "metadata": {
  "kernelspec": {
   "name": "python3",
   "display_name": "Python 3.8.10 64-bit ('venv': venv)"
  },
  "language_info": {
   "codemirror_mode": {
    "name": "ipython",
    "version": 3
   },
   "file_extension": ".py",
   "mimetype": "text/x-python",
   "name": "python",
   "nbconvert_exporter": "python",
   "pygments_lexer": "ipython3",
   "version": "3.8.10"
  },
  "interpreter": {
   "hash": "402c3ce22046ee1ecb4526ff3875833594eb9f670609218e3d751b8e7c24a0d0"
  }
 },
 "nbformat": 4,
 "nbformat_minor": 4
}