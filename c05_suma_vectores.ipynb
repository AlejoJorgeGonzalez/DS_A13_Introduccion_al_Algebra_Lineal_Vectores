{
 "cells": [
  {
   "cell_type": "markdown",
   "source": [
    "# CLASE 5: ADICIÓN ENTRE VECTORES"
   ],
   "metadata": {}
  },
  {
   "cell_type": "markdown",
   "source": [
    "# 2. Adición entre vectores."
   ],
   "metadata": {}
  },
  {
   "cell_type": "markdown",
   "source": [
    "La información de vectores de la **misma dimensión** se puede *juntar* sumando elemento a elemento sus entradas. A esta operación entre vectores se le conoce como suma y es denotada por el operador $+$."
   ],
   "metadata": {}
  },
  {
   "cell_type": "markdown",
   "source": [
    "Así pues, sean $a,b,c$ $n$-vectores de $\\mathbb{R}^{n}$ donde $c=a+b$, la operación se ilustra como:\n",
    "\n",
    "$$\n",
    "c = a+b = \\begin{bmatrix}a_{0}\\\\ a_{1}\\\\\\vdots \\\\ a_{n-1}\\end{bmatrix} + \\begin{bmatrix}b_{0}\\\\ b_{1}\\\\\\vdots \\\\ b_{n-1}\\end{bmatrix} = \\begin{bmatrix}a_{0} + b_{0}\\\\ a_{1}+b_{1}\\\\\\vdots \\\\ a_{n-1}+b_{n-1}\\end{bmatrix} \n",
    "$$\n"
   ],
   "metadata": {}
  },
  {
   "cell_type": "markdown",
   "source": [
    "Por ejemplo:\n",
    "$$\n",
    "\\begin{bmatrix} 0\\\\ 1\\\\ 2\\end{bmatrix} + \\begin{bmatrix}2\\\\ 3\\\\ -1\\end{bmatrix} = \\begin{bmatrix}0+2\\\\ 1+3 \\\\ 2-1\\end{bmatrix} = \\begin{bmatrix}2\\\\ 4 \\\\ 1\\end{bmatrix} \n",
    "$$\n",
    "Y también:\n",
    "$$\n",
    " \\left( 1 , 2 , 3 \\right) + \\left( -1 ,-2 , -3 \\right) = \\left( 1-1 , 2-2 , 3-3 \\right) = \\left( 0 , 0 , 0 \\right) = \\mathbf{0}\n",
    "$$"
   ],
   "metadata": {}
  },
  {
   "cell_type": "markdown",
   "source": [
    "## 2.1 Propiedades de la adición"
   ],
   "metadata": {}
  },
  {
   "cell_type": "markdown",
   "source": [
    "La suma entre vectores es llamada una *operación algebraíca* y esta cumple ciertas propiedades. Consideremos $\\displaystyle\\vec{a},\\displaystyle\\vec{b},\\displaystyle\\vec{c}$ vectores de $\\mathbb{R}^n$ entonces:\n",
    "\n",
    "* La suma de vectores es *conmutativa*: $\\vec{a}+\\vec{b} = \\vec{b}+\\vec{a}$\n",
    "\n",
    "* La suma de vectores es *asociativa*: $(\\vec{a}+\\vec{b})+\\vec{c} = \\vec{a}+(\\vec{b}+\\vec{c})$. Por esto último podemos escribir libremente $\\vec{a}+\\vec{b}+\\vec{c}$ ya que el resultado no cambiará según qué pareja de vectores sumemos primero. \n",
    "\n",
    "* La suma entre vectores, cuando uno es el vector cero, no surte algún efecto sobre el otro vector: $\\vec{a}+\\vec{0}=\\vec{0}+\\vec{a}=\\vec{a}$\n",
    "\n",
    "* Suma un vector con su inverso o lo que es lo mismo restar dos vectores iguales nos deja con el vector cero: $\\vec{a}-\\vec{a}=\\vec{0}$"
   ],
   "metadata": {}
  },
  {
   "cell_type": "markdown",
   "source": [
    "**Advertencia:** No todas las operaciones son cerradas en su espacio vectorial."
   ],
   "metadata": {}
  },
  {
   "cell_type": "markdown",
   "source": [
    "## Enlaces Externos\n",
    "\n",
    "[Colab Original](https://colab.research.google.com/drive/1RWB9RMoTMCYMVr0QMf-5BqHVz_eTHlgS?usp=sharing)"
   ],
   "metadata": {}
  }
 ],
 "metadata": {
  "kernelspec": {
   "display_name": "Python 3",
   "language": "python",
   "name": "python3"
  },
  "language_info": {
   "codemirror_mode": {
    "name": "ipython",
    "version": 3
   },
   "file_extension": ".py",
   "mimetype": "text/x-python",
   "name": "python",
   "nbconvert_exporter": "python",
   "pygments_lexer": "ipython3",
   "version": "3.7.3"
  }
 },
 "nbformat": 4,
 "nbformat_minor": 4
}