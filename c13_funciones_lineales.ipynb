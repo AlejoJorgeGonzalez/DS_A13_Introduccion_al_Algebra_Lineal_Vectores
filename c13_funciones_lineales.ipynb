{
 "cells": [
  {
   "cell_type": "markdown",
   "source": [
    "# CLASE 12: FUNCIONES LINEALES"
   ],
   "metadata": {}
  },
  {
   "cell_type": "markdown",
   "source": [
    "# 5. Funciones Lineales"
   ],
   "metadata": {}
  },
  {
   "cell_type": "markdown",
   "source": [
    "La notación $f: \\mathbb{R}^{n}\\to \\mathbb{R}$ significa que $f$ es una función con **dominio** en $\\mathbb{R}^{n}$ e imagen en $\\mathbb{R}$, es decir, que toma un $n$-vector y lo convierte en un escalar.\n",
    "  \n",
    "La función puede denotarse como $f\\left(\\mathbf{x}\\right)= f\\left(x_{0},x_{1},\\dots,x_{n-1}\\right)$ donde $\\mathbf{x}\\in \\mathbb{R}^{n}$ y $x_{i}$ son las entradas del vector.  \n",
    "\n",
    "Es necesario enfatizar que $f(\\mathbf{x})$ es un escalar. "
   ],
   "metadata": {}
  },
  {
   "cell_type": "markdown",
   "source": [
    "Para describir una función $f: \\mathbb{R}^{n} \\to \\mathbb{R}$ tenemos que especificar el cual es el valor para cualquier vector $\\mathbf{x}\\in\\mathbb{R}^{n}$. Por ejemplo, sea $f: \\mathbb{R}^{4} \\to \\mathbb{R}$ definida por\n",
    "$$\n",
    "f(\\mathbf{x}) = x_{0} + x_{1} + x_{2} + x_{3}\n",
    "$$"
   ],
   "metadata": {}
  },
  {
   "cell_type": "markdown",
   "source": [
    "Así pues el valor de cualquier $4$-vector queda bien definido, por ejemplo:\n",
    "\n",
    "* $f(\\mathbf{0}) = 0 + 0+ 0+0 = 0$\n",
    "\n",
    "* $f([1\\; 0\\; 0\\; 0]) = 1+0+0+0 = 1$\n",
    "\n",
    "* $f([1\\; 1\\; 1\\; 1]) = 1+1+1+1 = 4$"
   ],
   "metadata": {}
  },
  {
   "cell_type": "code",
   "execution_count": 1,
   "source": [
    "# Se llama las librerías necesarias\n",
    "import numpy as np"
   ],
   "outputs": [],
   "metadata": {}
  },
  {
   "cell_type": "code",
   "execution_count": 2,
   "source": [
    "# Función para crear la función que aparece anteriormente\n",
    "def f(x):\n",
    "    # np.sum realiza el x[0] + x[1] + x[2] + x[3]\n",
    "    return np.sum(x)"
   ],
   "outputs": [],
   "metadata": {}
  },
  {
   "cell_type": "code",
   "execution_count": 5,
   "source": [
    "# Se evaluan diferentes vectores\n",
    "print('f(0):\\n', f(np.array([0,0,0,0])))\n",
    "print('f([1,0,0,0]):\\n', f(np.array([1,0,0,0])))\n",
    "print('f([1,1,1,1]):\\n', f(np.array([1,1,1,1])))"
   ],
   "outputs": [
    {
     "output_type": "stream",
     "name": "stdout",
     "text": [
      "f(0):\n",
      " 0\n",
      "f([1,0,0,0]):\n",
      " 1\n",
      "f([1,1,1,1]):\n",
      " 4\n"
     ]
    }
   ],
   "metadata": {}
  },
  {
   "cell_type": "markdown",
   "source": [
    "Como otro ejemplo, sea $g: \\mathbb{R}^{3} \\to \\mathbb{R}$ definida por \n",
    "$$\n",
    "g(\\mathbf{x}) = x_{0}\n",
    "$$"
   ],
   "metadata": {}
  },
  {
   "cell_type": "markdown",
   "source": [
    "Tenemos entonces:\n",
    "\n",
    "* $g(\\mathbf{0}) = 0$ \n",
    "\n",
    "* $g([0\\; 0\\; 1]) = 0$\n",
    "\n",
    "* $g([1\\; 0\\; 4]) = 1$"
   ],
   "metadata": {}
  },
  {
   "cell_type": "code",
   "execution_count": 6,
   "source": [
    "# Se crea la función g\n",
    "def g(x):\n",
    "    return x[0]"
   ],
   "outputs": [],
   "metadata": {}
  },
  {
   "cell_type": "code",
   "execution_count": 8,
   "source": [
    "print('g(0):\\n', g(np.array([0,0,0])))\n",
    "print('g([0,0,1]):\\n', g(np.array([0,0,1])))\n",
    "print('g([1,0,4]):\\n', g(np.array([1,0,4])))"
   ],
   "outputs": [
    {
     "output_type": "stream",
     "name": "stdout",
     "text": [
      "g(0):\n",
      " 0\n",
      "g([0,0,1]):\n",
      " 0\n",
      "g([1,0,4]):\n",
      " 1\n"
     ]
    }
   ],
   "metadata": {}
  },
  {
   "cell_type": "markdown",
   "source": [
    "Podemos notar que en este caso $f(\\mathbf{x})$ corresponde a la _función suma_ y $g(\\mathbf{x})$ a proyección sobre $x_{0}$."
   ],
   "metadata": {}
  },
  {
   "cell_type": "markdown",
   "source": [
    "# CLASE 13: ALGUNAS FUNCIONES LINEALES"
   ],
   "metadata": {}
  },
  {
   "cell_type": "markdown",
   "source": [
    "## 5.1 Algunas funciones"
   ],
   "metadata": {}
  },
  {
   "cell_type": "markdown",
   "source": [
    "**Función producto interno**. Si una función tiene como aurgmentos dos $n$-vectores el dominio de la función se expresará como $\\mathbb{R}^{n}\\times\\mathbb{R}^{n}$. Por ejemplo, sea $f:\\mathbb{R}^{n}\\times\\mathbb{R}^{n} \\to \\mathbb{R}$ definida por:\n",
    "\n",
    "$$\n",
    "f(\\mathbf{a},\\mathbf{b}) = a_{0}b_{0} + a_{1}b_{1} + \\cdots + a_{n-1}b_{n-1}\n",
    "$$"
   ],
   "metadata": {}
  },
  {
   "cell_type": "markdown",
   "source": [
    "Notemos que podemos expresar lo anterior como\n",
    "\n",
    "$$\n",
    "f(\\mathbf{a},\\mathbf{b}) = \\mathbf{a}^{T}\\cdot \\mathbf{b}\n",
    "$$\n",
    "\n",
    "Esta función recibe el nombre de función producto interno. Si quisieramos dejar fijo un vector, digamos el vector $\\mathbf{a}$ podemos recurrir a la siguiente notación:\n",
    "\n",
    "$$\n",
    "f_{\\mathbf{a}}(\\mathbf{b}) = \\mathbf{a}^{T}\\mathbf{b}\n",
    "$$\n",
    "\n",
    "Esto significará que $\\mathbf{a}$ estará fijo mientras que $\\mathbf{b}$ será el que variará. "
   ],
   "metadata": {}
  },
  {
   "cell_type": "markdown",
   "source": [
    "**Superposición y linealidad.** La función producto interno satisface la siguiente propiedad:\n",
    "\n",
    "$$\n",
    "\\begin{matrix}\n",
    "f_\\mathbf{x}(\\alpha\\mathbf{a}+\\beta\\mathbf{b})  & = & \\mathbf{x}^{T}(\\alpha\\mathbf{a}+\\beta\\mathbf{b}) \\\\ \n",
    "& = & \\mathbf{x}^{T}(\\alpha\\mathbf{a})+\\mathbf{x}^{T}(\\beta\\mathbf{b})\\\\\n",
    " & = & \\alpha(\\mathbf{x}^{T}\\mathbf{a}) + \\beta(\\mathbf{x}^{T}\\mathbf{b})\\\\\n",
    " & = & \\alpha f_{\\mathbf{x}}(\\mathbf{a}) + \\beta f_{\\mathbf{x}}(\\mathbf{b}) \n",
    "\\end{matrix}\n",
    "$$\n",
    "\n",
    "Si la función $g$ cumple que $g(\\alpha\\mathbf{x}+\\beta\\mathbf{y}) = \\alpha g(\\mathbf{x})+\\beta g(\\mathbf{y})$ decimos que la función $g$ es una **función lineal.** "
   ],
   "metadata": {}
  },
  {
   "cell_type": "markdown",
   "source": [
    "Si $f$ es una función lineal la _linearidad_ se extiende a cualquier combinación lineal y no solamente a una combinación de dos vectores, tenemos \n",
    "\n",
    "$$\n",
    "f(\\alpha_{0}\\mathbf{x_{0}} + \\alpha_{1}\\mathbf{x_{1}} + \\alpha_{2}\\mathbf{x_{2}} + \\cdots \n",
    " + \\alpha_{n-1}\\mathbf{x_{n-1}}) = \\alpha_{0}f(\\mathbf{x_{0}}) + \\alpha_{1}f(\\mathbf{x_{1}}) + \\alpha_{2}f(\\mathbf{x_{2}}) + \\cdots + \\alpha_{n-1}f(\\mathbf{x_{n-1}})\n",
    "$$\n"
   ],
   "metadata": {}
  },
  {
   "cell_type": "markdown",
   "source": [
    "Si una función $g:\\mathbf{R}^{n} \\to \\mathbf{R}$ es lineal sabemo que cumple $g(\\alpha\\mathbf{x}+\\beta\\mathbf{y}) = \\alpha g(\\mathbf{x})+\\beta g(\\mathbf{y})$, propiedad que llamaremos _superposición_. Ahora, la superposición puede ser separada en dos propiedades:\n",
    "\n",
    "* _Homogeneidad_. Para cualquier $n$-vector $\\mathbf{x}$ y cualquier escalar $\\alpha$ tenemos que $g(\\alpha \\mathbf{x}) = \\alpha g(\\mathbf{x})$\n",
    "\n",
    "* _Aditividad_. Para cualquier $n$-vector $\\mathbf{x}$ y $\\mathbf{y}$ tenemos que $g(\\mathbf{x}+\\mathbf{y}) = g(\\mathbf{x})+g(\\mathbf{y})$\n",
    "\n",
    "La homogeneidad nos dice que escalar el argumento es igual que escalar el valor de la función; la aditividad nos indica que sumar los argumentos es igual que sumar los valores de la función. "
   ],
   "metadata": {}
  },
  {
   "cell_type": "code",
   "execution_count": 9,
   "source": [
    "# Se comprueba si la función f creada anteriormente cumple con la\n",
    "# propiedad de la homogeneidad\n",
    "# Se crean los vectores\n",
    "a = np.array([1,1,1,1])\n",
    "b = np.array([1,0,1,0])\n",
    "# Se crean los escalares\n",
    "x,y = 1,-2"
   ],
   "outputs": [],
   "metadata": {}
  },
  {
   "cell_type": "code",
   "execution_count": 11,
   "source": [
    "print('x*a + y*b:\\n', x*a + y*b)\n",
    "print('f(x*a + y*b):\\n', f(x*a + y*b))\n",
    "print('x*f(a) + y*f(b):\\n', x*f(a) + y*f(b))"
   ],
   "outputs": [
    {
     "output_type": "stream",
     "name": "stdout",
     "text": [
      "x*a + y*b:\n",
      " [-1  1 -1  1]\n",
      "f(x*a + y*b):\n",
      " 0\n",
      "x*f(a) + y*f(b):\n",
      " 0\n"
     ]
    }
   ],
   "metadata": {}
  },
  {
   "cell_type": "markdown",
   "source": [
    "Se comprueba que la función cumple con la propiedad de la homogeneidad, por lo que es lineal."
   ],
   "metadata": {}
  },
  {
   "cell_type": "markdown",
   "source": [
    "## Enlaces Externos:\n",
    "\n",
    "[Colab Original](https://colab.research.google.com/drive/1uHLHnGyq5fgP917lwwh3JDNhNtr3EZhw?usp=sharing)"
   ],
   "metadata": {}
  }
 ],
 "metadata": {
  "kernelspec": {
   "name": "python3",
   "display_name": "Python 3.8.10 64-bit ('venv': venv)"
  },
  "language_info": {
   "codemirror_mode": {
    "name": "ipython",
    "version": 3
   },
   "file_extension": ".py",
   "mimetype": "text/x-python",
   "name": "python",
   "nbconvert_exporter": "python",
   "pygments_lexer": "ipython3",
   "version": "3.8.10"
  },
  "interpreter": {
   "hash": "402c3ce22046ee1ecb4526ff3875833594eb9f670609218e3d751b8e7c24a0d0"
  }
 },
 "nbformat": 4,
 "nbformat_minor": 4
}