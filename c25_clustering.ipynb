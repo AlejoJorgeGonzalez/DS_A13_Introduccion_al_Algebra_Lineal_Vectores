{
 "cells": [
  {
   "cell_type": "markdown",
   "source": [
    "# CLASE 25: ¿QUÉ ES Y PORQUÉ CLUSTERING?"
   ],
   "metadata": {}
  },
  {
   "cell_type": "markdown",
   "source": [
    "# 10. Clustering"
   ],
   "metadata": {}
  },
  {
   "cell_type": "markdown",
   "source": [
    "Acá va a ser donde todo el conocimiento que adquirimos hasta ahora se va a juntar. "
   ],
   "metadata": {}
  },
  {
   "cell_type": "markdown",
   "source": [
    "Lo que vamos a hacer es tratar de _clusterizar_ una colección de vectores en grupos o clústers de vectores que son los que estarán cerca unos de otros y todo a través de medir las distancias a pares. "
   ],
   "metadata": {}
  },
  {
   "cell_type": "markdown",
   "source": [
    "Supongamos que tenemos un grupo de $N$ $n$-vectores $x_{0},x_{1},\\dots,x_{N-1}$. El objetivo de _clustering_ es agrupar (si es posible) en $k$ grupos los vectores tal que dentro de esos grupos estén lo más cerca posible unos de otros. \n",
    "\n",
    "![](imagenes/img11.png)"
   ],
   "metadata": {}
  },
  {
   "cell_type": "markdown",
   "source": [
    "## 10.1 El objetivo de clustering"
   ],
   "metadata": {}
  },
  {
   "cell_type": "markdown",
   "source": [
    "**Específicar el asignamiento de clúster**. Uno de los primeros problemas es asignar a una serie de vectores un clúster. Ahora, para empezar, vamos a partir teniendo las etiquetas $1,2,\\dots,k$ que representan los clusters o grupos y estas etiquetas se las vamos a asignar a nuestros $N$ vectores usando al $N$-vector $c$, donde $c_{i}$ va a representar el grupo al que el vector $x_{i}$ está asignado. Por ejemplo, si $N=6$ y $k=3$, y además $c^{T} = [3,1,1,1,2,2]$ entonces esto significa que el vector $x_{0}$ quedará asignado al grupo $3$, los vectores $x_{1},x_{2},x_{3}$ estarán asignados al grupo $1$ y los vectores $x_{4},x_{5}$ quedarán asignados al grupo 2. Ahora, una forma alternativa de expresar esto es con conjuntos de los index de los vectores. Vamos a denotar como $G_{i}$ al grupo $i$ de indices de vectores que pertenecen a cada grupo. Continuando nuestro ejemplo entonces tenemos que\n",
    "\n",
    "$$\n",
    "G_{1} = \\{1,2,3\\}, \\qquad G_{2} = \\{4,5\\}, \\qquad G_{3} = \\{0\\}\n",
    "$$"
   ],
   "metadata": {}
  },
  {
   "cell_type": "markdown",
   "source": [
    "**Representativos de un grupo.** Ahora, consideremos de nuevo que tenemos $k$ grupos, a cada uno de estos grupos le vamos a asignar un vector representativo, el cual vamos a denotar por $z_{1},z_{2},\\dots,z_{k}$. Estos vectores representativos pueden ser cualquier vector, no tience que ser necesariamente uno de los vectores dados sin embargo tiene que ser tal que la distancia de este $z_{i}$ a todos los otros vectores del grupo sea la mínima.\n",
    "\n",
    "![](imagenes/img12.png)"
   ],
   "metadata": {}
  },
  {
   "cell_type": "markdown",
   "source": [
    "**Un objetivo de clustering.** Ahora bien, ya que definimos lo anterior podemos dar una métrica que nos ayude a juzgar la elección de un clúster en conjunto con los representativos de cada grupo. Definimos entonces:\n",
    "\n",
    "$$\n",
    "J^{clust} = (||x_{0}-z_{c_{1}}||^{2}+\\cdots+||x_{N-1}-z_{c_{N}}||^{2})/N\n",
    "$$"
   ],
   "metadata": {}
  },
  {
   "cell_type": "markdown",
   "source": [
    "**Clustering óptimo y subóptimo.** Nosotros vamos a buscar un clustering, es decir, un asignamiento de cluster $c_{1},c_{2},\\dots,c_{N}$ y vamos a elegir unos representativos $z_{1},z_{2},\\dots,z_{N}$ que minimicen el objetivo $J^{clust}$. Al que nos retorne el $J^{clust}$ mínimo le vamos a llamar clustering óptimo. Aunque no existe tal solución lo que vamos a hacer es aproximarla por medio del algoritmo *k-means*, a esta solución le llamaremos *subóptima* y aunque no es solución exacta del problema es lo sufientemente buena para poder trabajar con ella. "
   ],
   "metadata": {}
  },
  {
   "cell_type": "markdown",
   "source": [
    "## Enlaces Externos\n",
    "\n",
    "[Colab Original](https://colab.research.google.com/drive/1IA8V-zQ3lgmMQUkQF3OLKl3xH_Kmy3Uw?usp=sharing)"
   ],
   "metadata": {}
  }
 ],
 "metadata": {
  "kernelspec": {
   "display_name": "Python 3",
   "language": "python",
   "name": "python3"
  },
  "language_info": {
   "codemirror_mode": {
    "name": "ipython",
    "version": 3
   },
   "file_extension": ".py",
   "mimetype": "text/x-python",
   "name": "python",
   "nbconvert_exporter": "python",
   "pygments_lexer": "ipython3",
   "version": "3.7.3"
  }
 },
 "nbformat": 4,
 "nbformat_minor": 4
}