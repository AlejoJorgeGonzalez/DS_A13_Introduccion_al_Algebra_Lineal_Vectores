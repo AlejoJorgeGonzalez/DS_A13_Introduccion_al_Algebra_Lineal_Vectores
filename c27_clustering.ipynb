{
 "cells": [
  {
   "cell_type": "markdown",
   "source": [
    "# CLASE 25: ¿QUÉ ES Y PORQUÉ CLUSTERING?"
   ],
   "metadata": {}
  },
  {
   "cell_type": "markdown",
   "source": [
    "# 10. Clustering"
   ],
   "metadata": {}
  },
  {
   "cell_type": "markdown",
   "source": [
    "Acá va a ser donde todo el conocimiento que adquirimos hasta ahora se va a juntar. "
   ],
   "metadata": {}
  },
  {
   "cell_type": "markdown",
   "source": [
    "Lo que vamos a hacer es tratar de _clusterizar_ una colección de vectores en grupos o clústers de vectores que son los que estarán cerca unos de otros y todo a través de medir las distancias a pares. "
   ],
   "metadata": {}
  },
  {
   "cell_type": "markdown",
   "source": [
    "Supongamos que tenemos un grupo de $N$ $n$-vectores $x_{0},x_{1},\\dots,x_{N-1}$. El objetivo de _clustering_ es agrupar (si es posible) en $k$ grupos los vectores tal que dentro de esos grupos estén lo más cerca posible unos de otros. \n",
    "\n",
    "![](imagenes/img11.png)"
   ],
   "metadata": {}
  },
  {
   "cell_type": "markdown",
   "source": [
    "## 10.1 El objetivo de clustering"
   ],
   "metadata": {}
  },
  {
   "cell_type": "markdown",
   "source": [
    "**Específicar el asignamiento de clúster**. Uno de los primeros problemas es asignar a una serie de vectores un clúster. Ahora, para empezar, vamos a partir teniendo las etiquetas $1,2,\\dots,k$ que representan los clusters o grupos y estas etiquetas se las vamos a asignar a nuestros $N$ vectores usando al $N$-vector $c$, donde $c_{i}$ va a representar el grupo al que el vector $x_{i}$ está asignado. Por ejemplo, si $N=6$ y $k=3$, y además $c^{T} = [3,1,1,1,2,2]$ entonces esto significa que el vector $x_{0}$ quedará asignado al grupo $3$, los vectores $x_{1},x_{2},x_{3}$ estarán asignados al grupo $1$ y los vectores $x_{4},x_{5}$ quedarán asignados al grupo 2. Ahora, una forma alternativa de expresar esto es con conjuntos de los index de los vectores. Vamos a denotar como $G_{i}$ al grupo $i$ de indices de vectores que pertenecen a cada grupo. Continuando nuestro ejemplo entonces tenemos que\n",
    "\n",
    "$$\n",
    "G_{1} = \\{1,2,3\\}, \\qquad G_{2} = \\{4,5\\}, \\qquad G_{3} = \\{0\\}\n",
    "$$"
   ],
   "metadata": {}
  },
  {
   "cell_type": "markdown",
   "source": [
    "**Representativos de un grupo.** Ahora, consideremos de nuevo que tenemos $k$ grupos, a cada uno de estos grupos le vamos a asignar un vector representativo, el cual vamos a denotar por $z_{1},z_{2},\\dots,z_{k}$. Estos vectores representativos pueden ser cualquier vector, no tience que ser necesariamente uno de los vectores dados sin embargo tiene que ser tal que la distancia de este $z_{i}$ a todos los otros vectores del grupo sea la mínima.\n",
    "\n",
    "![](imagenes/img12.png)"
   ],
   "metadata": {}
  },
  {
   "cell_type": "markdown",
   "source": [
    "**Un objetivo de clustering.** Ahora bien, ya que definimos lo anterior podemos dar una métrica que nos ayude a juzgar la elección de un clúster en conjunto con los representativos de cada grupo. Definimos entonces:\n",
    "\n",
    "$$\n",
    "J^{clust} = (||x_{0}-z_{c_{1}}||^{2}+\\cdots+||x_{N-1}-z_{c_{N}}||^{2})/N\n",
    "$$"
   ],
   "metadata": {}
  },
  {
   "cell_type": "markdown",
   "source": [
    "**Clustering óptimo y subóptimo.** Nosotros vamos a buscar un clustering, es decir, un asignamiento de cluster $c_{1},c_{2},\\dots,c_{N}$ y vamos a elegir unos representativos $z_{1},z_{2},\\dots,z_{N}$ que minimicen el objetivo $J^{clust}$. Al que nos retorne el $J^{clust}$ mínimo le vamos a llamar clustering óptimo. Aunque no existe tal solución lo que vamos a hacer es aproximarla por medio del algoritmo *k-means*, a esta solución le llamaremos *subóptima* y aunque no es solución exacta del problema es lo sufientemente buena para poder trabajar con ella. "
   ],
   "metadata": {}
  },
  {
   "cell_type": "markdown",
   "source": [
    "# CLASE 26: UNA APROXIMACIÓN: K-MEANS"
   ],
   "metadata": {}
  },
  {
   "cell_type": "markdown",
   "source": [
    "## 10.2 El algoritmo K-Means"
   ],
   "metadata": {}
  },
  {
   "cell_type": "markdown",
   "source": [
    "**ALGORITMO** Algoritmo K-Means  \n",
    "**iniciar** Se da una lista de $N$ vectores y una lista de $k$ vectores representativos $z_{1},z_{2},\\dots,z_{k}$  \n",
    "\n",
    "repetir hasta la convergencia:\n",
    "1. *Parte los vectores en k-grupos*. Para cada vector $i=0,\\dots,N-1$, asigna  $x_{i}$ a un grupo asociado con su representativo más cercano. \n",
    "2. *Actualiza los representativos de cada cluster*. Para cada grupo $1,\\dots, k$ selecciona $z_{j}$ como el promedio de los vectores del grupo $j$."
   ],
   "metadata": {}
  },
  {
   "cell_type": "markdown",
   "source": [
    "![](imagenes/img13.png)"
   ],
   "metadata": {}
  },
  {
   "cell_type": "markdown",
   "source": [
    "![](imagenes/img14.png)"
   ],
   "metadata": {}
  },
  {
   "cell_type": "markdown",
   "source": [
    "![](imagenes/img15.png)"
   ],
   "metadata": {}
  },
  {
   "cell_type": "markdown",
   "source": [
    "![](imagenes/img16.png)"
   ],
   "metadata": {}
  },
  {
   "cell_type": "markdown",
   "source": [
    "![](imagenes/img17.png)"
   ],
   "metadata": {}
  },
  {
   "cell_type": "markdown",
   "source": [
    "# CLASE 27: K-MEANS EN PYTHON"
   ],
   "metadata": {}
  },
  {
   "cell_type": "code",
   "execution_count": 10,
   "source": [
    "# Funcion que asigna a cada vector al cluster que pertenece, recibe\n",
    "# como datos el data que son los vectores y centroids que son los \n",
    "# vectores representativos z\n",
    "def group_assignment(data, centroids):\n",
    "    grouping_vec_c = np.zeros(len(data))\n",
    "    for i in range(len(data)):\n",
    "        dist = np.zeros(len(centroids))\n",
    "        for j in range(len(centroids)):\n",
    "            dist[j] = np.linalg.norm(data[i] - centroids[j])\n",
    "        min_dist = min(dist)\n",
    "        for j in range(len(centroids)):\n",
    "            if min_dist == dist[j]:\n",
    "                grouping_vec_c[i] = j+1\n",
    "    return grouping_vec_c"
   ],
   "outputs": [],
   "metadata": {}
  },
  {
   "cell_type": "code",
   "execution_count": 11,
   "source": [
    "# Función para actualizar el centroide de acuerdo a los vectores\n",
    "# que se asocian a ese centroide, recibe como datos, el data que son \n",
    "# los vectores, grouping que es id del cluster de cada vector y \n",
    "# centroids que son los centroides actuales.\n",
    "def update_centroid(data, grouping, centroids):\n",
    "    new_centroids = []\n",
    "    for i in range(len(centroids)):\n",
    "        cent = np.zeros(len(data[0]))\n",
    "        count = 0\n",
    "        for j in range(len(data)):\n",
    "            if grouping[j] == (i + 1):\n",
    "                cent = cent + data[j]\n",
    "                count += 1\n",
    "        group_average = cent/count\n",
    "        new_centroids.append(group_average)\n",
    "    return new_centroids"
   ],
   "outputs": [],
   "metadata": {}
  },
  {
   "cell_type": "code",
   "execution_count": 12,
   "source": [
    "# Función para hallar el clustering objetive J, este valor se busca \n",
    "# que en cada iteración se acerque mas a cero, recibe como datos el\n",
    "# data o los vectores, el grouping o ids del cluster de cada vector\n",
    "# y los centroids\n",
    "def clustering_objetive(data, grouping, centroids):\n",
    "    J_obj = 0\n",
    "    for i in range(len(data)):\n",
    "        for j in range(len(centroids)):\n",
    "            if grouping[i] == (j + 1):\n",
    "                J_obj += np.linalg.norm(data[i] - centroids[j])**2\n",
    "    J_obj = J_obj/len(data)\n",
    "    return J_obj"
   ],
   "outputs": [],
   "metadata": {}
  },
  {
   "cell_type": "code",
   "execution_count": 13,
   "source": [
    "# Función que halla lo K-Means, este ensambla todas las funciones \n",
    "# anteriores, recibe como datos, la data que son los vectores, y \n",
    "# centroids que son los primeros centroides para la iteración\n",
    "def Kmeans_alg(data, centroids):\n",
    "    # Contador de iteraciones\n",
    "    iteration = 0\n",
    "    # Vector para saber como evoluciona el clustering objetive en cada\n",
    "    # iteración\n",
    "    J_obj_vector = []\n",
    "    # Booleno para detener las iteraciones cuando la diferencia entre\n",
    "    # ambos es menor 1*10^-6\n",
    "    Stop = False\n",
    "    while Stop == False:\n",
    "        grouping = group_assignment(data, centroids)\n",
    "        new_centroids = update_centroid(data, grouping, centroids)\n",
    "        J_obj = clustering_objetive(data, grouping, new_centroids)\n",
    "        J_obj_vector.append(J_obj)\n",
    "        iteration += 1\n",
    "        if np.linalg.norm(np.array(new_centroids) - np.array(centroids)) < 1e-6:\n",
    "            Stop = True\n",
    "        else:\n",
    "            centroids = new_centroids\n",
    "    return new_centroids, grouping, J_obj_vector, iteration"
   ],
   "outputs": [],
   "metadata": {}
  },
  {
   "cell_type": "code",
   "execution_count": 14,
   "source": [
    "# Se importa las librerías necesarias\n",
    "import numpy as np\n",
    "import matplotlib.pyplot as plt"
   ],
   "outputs": [],
   "metadata": {}
  },
  {
   "cell_type": "code",
   "execution_count": 15,
   "source": [
    "fig,ax = plt.subplots(1,1,figsize=(7,7),dpi=120)\n",
    "# Se crean los puntos a analizar, concentradolos intencionalmenete en\n",
    "# tres puntos: (0,0), (-1,1) y (1,1)\n",
    "X = np.concatenate([[0.3*np.random.randn(2) for i in range(100)],\\\n",
    "                    [[1,1] + 0.3*np.random.randn(2) for i in range(100)], \\\n",
    "                    [[1,-1]+ 0.3* np.random.randn(2) for i in range(100)]])\n",
    "# Se grafican los puntos\n",
    "ax.scatter( X[:,0],X[:,1])\n",
    "ax.set_xlim(-1.5,2.5)\n",
    "ax.set_ylim(-2,2)\n",
    "plt.show()"
   ],
   "outputs": [
    {
     "output_type": "display_data",
     "data": {
      "image/png": "[encoded data removed]",
      "text/plain": [
       "<Figure size 840x840 with 1 Axes>"
      ]
     },
     "metadata": {
      "needs_background": "light"
     }
    }
   ],
   "metadata": {}
  },
  {
   "cell_type": "code",
   "execution_count": 23,
   "source": [
    "# Se calcula los K-Means, para este caso se da como centroides los \n",
    "# tres primero vectores de la data\n",
    "A = Kmeans_alg(X, X[:3])\n",
    "print('len(A):\\n', len(A))\n",
    "print('')\n",
    "print('Vectores Representativos:\\n', A[0])\n",
    "print('')\n",
    "print('iteraciones:\\n', A[3])\n",
    "print('')\n",
    "print('J_obj:\\n', A[2])"
   ],
   "outputs": [
    {
     "output_type": "stream",
     "name": "stdout",
     "text": [
      "len(A):\n",
      " 4\n",
      "\n",
      "Vectores Representativos:\n",
      " [array([-0.07346608,  0.01188893]), array([ 0.92993837, -0.97548574]), array([0.99288134, 0.98560059])]\n",
      "\n",
      "iteraciones:\n",
      " 4\n",
      "\n",
      "J_obj:\n",
      " [0.31913216433030306, 0.17945322998728758, 0.17789982489985862, 0.17789982489985862]\n"
     ]
    }
   ],
   "metadata": {}
  },
  {
   "cell_type": "code",
   "execution_count": 24,
   "source": [
    "# Se grafica el clustering objetive de acuerdo con el número de \n",
    "# iteraciones\n",
    "fig, ax = plt.subplots(1,1,figsize=(7,7),dpi=120)\n",
    "ax.plot(list(range(A[-1])),A[2])\n",
    "plt.show()"
   ],
   "outputs": [
    {
     "output_type": "display_data",
     "data": {
      "image/png": "[encoded data removed]",
      "text/plain": [
       "<Figure size 840x840 with 1 Axes>"
      ]
     },
     "metadata": {
      "needs_background": "light"
     }
    }
   ],
   "metadata": {}
  },
  {
   "cell_type": "markdown",
   "source": [
    "# Reto"
   ],
   "metadata": {}
  },
  {
   "cell_type": "code",
   "execution_count": 36,
   "source": [
    "from sklearn.datasets import fetch_openml\n",
    "import random\n",
    "import itertools"
   ],
   "outputs": [],
   "metadata": {}
  },
  {
   "cell_type": "code",
   "execution_count": 32,
   "source": [
    "# Se obtiene una serie de vectores con sus etiquetas asociadas\n",
    "X, y = fetch_openml('mnist_784', version=1, return_X_y=True)"
   ],
   "outputs": [],
   "metadata": {}
  },
  {
   "cell_type": "code",
   "execution_count": 34,
   "source": [
    "print('len(X): \\n', len(X))"
   ],
   "outputs": [
    {
     "output_type": "stream",
     "name": "stdout",
     "text": [
      "len(X): \n",
      " 70000\n"
     ]
    }
   ],
   "metadata": {}
  },
  {
   "cell_type": "code",
   "execution_count": null,
   "source": [
    "A = Kmeans_alg(X,random.choices(X,k=9))\n",
    "a = list(itertools.product(list(range(3)),list(range(3))))"
   ],
   "outputs": [],
   "metadata": {}
  },
  {
   "cell_type": "code",
   "execution_count": null,
   "source": [
    "fig, ax = plt.subplots(3,3,figsize=(7,7),dpi=120)\n",
    "for i,j in zip(a,A[0]):\n",
    "        ax[i[0]][i[1]].imshow(j.reshape(28,28))\n",
    "plt.show()"
   ],
   "outputs": [],
   "metadata": {}
  }
 ],
 "metadata": {
  "kernelspec": {
   "name": "python3",
   "display_name": "Python 3.8.10 64-bit ('venv': venv)"
  },
  "language_info": {
   "codemirror_mode": {
    "name": "ipython",
    "version": 3
   },
   "file_extension": ".py",
   "mimetype": "text/x-python",
   "name": "python",
   "nbconvert_exporter": "python",
   "pygments_lexer": "ipython3",
   "version": "3.8.10"
  },
  "interpreter": {
   "hash": "402c3ce22046ee1ecb4526ff3875833594eb9f670609218e3d751b8e7c24a0d0"
  }
 },
 "nbformat": 4,
 "nbformat_minor": 4
}