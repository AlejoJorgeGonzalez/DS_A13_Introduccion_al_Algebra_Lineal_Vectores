{
 "cells": [
  {
   "cell_type": "markdown",
   "source": [
    "# CLASE 5: ADICIÓN ENTRE VECTORES"
   ],
   "metadata": {}
  },
  {
   "cell_type": "markdown",
   "source": [
    "# 2. Adición entre vectores."
   ],
   "metadata": {}
  },
  {
   "cell_type": "markdown",
   "source": [
    "La información de vectores de la **misma dimensión** se puede *juntar* sumando elemento a elemento sus entradas. A esta operación entre vectores se le conoce como suma y es denotada por el operador $+$."
   ],
   "metadata": {}
  },
  {
   "cell_type": "markdown",
   "source": [
    "Así pues, sean $a,b,c$ $n$-vectores de $\\mathbb{R}^{n}$ donde $c=a+b$, la operación se ilustra como:\n",
    "\n",
    "$$\n",
    "c = a+b = \\begin{bmatrix}a_{0}\\\\ a_{1}\\\\\\vdots \\\\ a_{n-1}\\end{bmatrix} + \\begin{bmatrix}b_{0}\\\\ b_{1}\\\\\\vdots \\\\ b_{n-1}\\end{bmatrix} = \\begin{bmatrix}a_{0} + b_{0}\\\\ a_{1}+b_{1}\\\\\\vdots \\\\ a_{n-1}+b_{n-1}\\end{bmatrix} \n",
    "$$\n"
   ],
   "metadata": {}
  },
  {
   "cell_type": "markdown",
   "source": [
    "Por ejemplo:\n",
    "$$\n",
    "\\begin{bmatrix} 0\\\\ 1\\\\ 2\\end{bmatrix} + \\begin{bmatrix}2\\\\ 3\\\\ -1\\end{bmatrix} = \\begin{bmatrix}0+2\\\\ 1+3 \\\\ 2-1\\end{bmatrix} = \\begin{bmatrix}2\\\\ 4 \\\\ 1\\end{bmatrix} \n",
    "$$\n",
    "Y también:\n",
    "$$\n",
    " \\left( 1 , 2 , 3 \\right) + \\left( -1 ,-2 , -3 \\right) = \\left( 1-1 , 2-2 , 3-3 \\right) = \\left( 0 , 0 , 0 \\right) = \\mathbf{0}\n",
    "$$"
   ],
   "metadata": {}
  },
  {
   "cell_type": "markdown",
   "source": [
    "## 2.1 Propiedades de la adición"
   ],
   "metadata": {}
  },
  {
   "cell_type": "markdown",
   "source": [
    "La suma entre vectores es llamada una *operación algebraíca* y esta cumple ciertas propiedades. Consideremos $\\displaystyle\\vec{a},\\displaystyle\\vec{b},\\displaystyle\\vec{c}$ vectores de $\\mathbb{R}^n$ entonces:\n",
    "\n",
    "* La suma de vectores es *conmutativa*: $\\vec{a}+\\vec{b} = \\vec{b}+\\vec{a}$\n",
    "\n",
    "* La suma de vectores es *asociativa*: $(\\vec{a}+\\vec{b})+\\vec{c} = \\vec{a}+(\\vec{b}+\\vec{c})$. Por esto último podemos escribir libremente $\\vec{a}+\\vec{b}+\\vec{c}$ ya que el resultado no cambiará según qué pareja de vectores sumemos primero. \n",
    "\n",
    "* La suma entre vectores, cuando uno es el vector cero, no surte algún efecto sobre el otro vector: $\\vec{a}+\\vec{0}=\\vec{0}+\\vec{a}=\\vec{a}$\n",
    "\n",
    "* Suma un vector con su inverso o lo que es lo mismo restar dos vectores iguales nos deja con el vector cero: $\\vec{a}-\\vec{a}=\\vec{0}$"
   ],
   "metadata": {}
  },
  {
   "cell_type": "markdown",
   "source": [
    "**Advertencia:** No todas las operaciones son cerradas en su espacio vectorial."
   ],
   "metadata": {}
  },
  {
   "cell_type": "markdown",
   "source": [
    "## Enlaces Externos\n",
    "\n",
    "[Colab Original](https://colab.research.google.com/drive/1RWB9RMoTMCYMVr0QMf-5BqHVz_eTHlgS?usp=sharing)"
   ],
   "metadata": {}
  },
  {
   "cell_type": "markdown",
   "source": [
    "## 2.2 Suma de vectores en Python"
   ],
   "metadata": {}
  },
  {
   "cell_type": "markdown",
   "source": [
    "Vamos a rescatar el ejemplo de la clase pasada: el modelo aditivo RGB."
   ],
   "metadata": {}
  },
  {
   "cell_type": "markdown",
   "source": [
    "Sabemos que podemos representar los vectores como listas, por ejemplo, el negro y el rojo son:"
   ],
   "metadata": {}
  },
  {
   "cell_type": "code",
   "execution_count": 1,
   "source": [
    "rojo = [255,0,0]\n",
    "negro = [0,0,0]"
   ],
   "outputs": [],
   "metadata": {}
  },
  {
   "cell_type": "markdown",
   "source": [
    "El gran problema es que en Python el operador $+$ entre listas respresenta concatenación y no suma entrada a entrada:"
   ],
   "metadata": {}
  },
  {
   "cell_type": "code",
   "execution_count": 2,
   "source": [
    "print('rojo + negro resulta en',rojo+negro)"
   ],
   "outputs": [
    {
     "output_type": "stream",
     "name": "stdout",
     "text": [
      "rojo + negro resulta en [255, 0, 0, 0, 0, 0]\n"
     ]
    }
   ],
   "metadata": {}
  },
  {
   "cell_type": "markdown",
   "source": [
    "Una solución a esto es crear una función que tome dos listas y las sume entrada por entrada"
   ],
   "metadata": {}
  },
  {
   "cell_type": "code",
   "execution_count": 3,
   "source": [
    "def suma_vectores(a,b):\n",
    "    return [i+j for i,j in zip(a,b)]"
   ],
   "outputs": [],
   "metadata": {}
  },
  {
   "cell_type": "code",
   "execution_count": 4,
   "source": [
    "print('suma_vectores(rojo,negro) nos devuelve',suma_vectores(rojo,negro))"
   ],
   "outputs": [
    {
     "output_type": "stream",
     "name": "stdout",
     "text": [
      "suma_vectores(rojo,negro) nos devuelve [255, 0, 0]\n"
     ]
    }
   ],
   "metadata": {}
  },
  {
   "cell_type": "code",
   "execution_count": 5,
   "source": [
    "print('suma_vectores(verde,negro) nos devuelve',suma_vectores([0,255,0],negro))"
   ],
   "outputs": [
    {
     "output_type": "stream",
     "name": "stdout",
     "text": [
      "suma_vectores(verde,negro) nos devuelve [0, 255, 0]\n"
     ]
    }
   ],
   "metadata": {}
  },
  {
   "cell_type": "markdown",
   "source": [
    "Al parecer con esta función gran parte de nuestros problemas se resuelven sin embargo a largo plazo nos será más últil comenzar a usar **Numpy**.  \n",
    "\n",
    "**Numpy** es una biblioteca de Python que nos soporte para poder operar entre vectores y matrices. De igual manera contiene funciones matemáticas de alto nivel y que también podrán operar con los vectores y matrices. "
   ],
   "metadata": {}
  },
  {
   "cell_type": "markdown",
   "source": [
    "Lo primero que tenemos que hacer es importar la biblioteca numpy"
   ],
   "metadata": {}
  },
  {
   "cell_type": "code",
   "execution_count": 6,
   "source": [
    "import numpy as np"
   ],
   "outputs": [],
   "metadata": {}
  },
  {
   "cell_type": "markdown",
   "source": [
    "Después vamos a declarar nuestras listas ya creadas como *numpy.arrays*"
   ],
   "metadata": {}
  },
  {
   "cell_type": "code",
   "execution_count": 7,
   "source": [
    "rojo = np.array(rojo)\n",
    "negro = np.array(negro)"
   ],
   "outputs": [],
   "metadata": {}
  },
  {
   "cell_type": "markdown",
   "source": [
    "Si verificamos el tipo de la función entonces notaremos que es una instancia de *numpy.ndarray*"
   ],
   "metadata": {}
  },
  {
   "cell_type": "code",
   "execution_count": 8,
   "source": [
    "print(type(rojo))"
   ],
   "outputs": [
    {
     "output_type": "stream",
     "name": "stdout",
     "text": [
      "<class 'numpy.ndarray'>\n"
     ]
    }
   ],
   "metadata": {}
  },
  {
   "cell_type": "markdown",
   "source": [
    "Finalmente, notemos que *rojo* y *negro* ya no son listas de Python sino instancias de numpy. Entre ndarrays el operador $+$ funcionará exactamente como se espera entre vectores, entrada a entrada:"
   ],
   "metadata": {}
  },
  {
   "cell_type": "code",
   "execution_count": 9,
   "source": [
    "print('La suma de los numpy array rojo + negro es', rojo+negro)"
   ],
   "outputs": [
    {
     "output_type": "stream",
     "name": "stdout",
     "text": [
      "La suma de los numpy array rojo + negro es [255   0   0]\n"
     ]
    }
   ],
   "metadata": {}
  },
  {
   "cell_type": "markdown",
   "source": [
    "  "
   ],
   "metadata": {}
  },
  {
   "cell_type": "markdown",
   "source": [
    "Por completez vamos a realizar un ejercicio más. \n",
    "\n",
    "Sean $\\mathbf{a}=(1,2,3,4,5)$, $\\mathbf{b} = (-1,-2,-3,-4,5)$ y $\\mathbf{c} = \\mathbf{a}+\\mathbf{b} = (0,0,0,0,10)$. Vamos a replicar este cálculo en Python con ayuda de numpy. "
   ],
   "metadata": {}
  },
  {
   "cell_type": "code",
   "execution_count": 10,
   "source": [
    "a = np.array([1,2,3,4,5]) #declaramos el arreglo/vector a\n",
    "\n",
    "b = np.array([-1,-2,-3,-4,5]) #declaramos el arreglo/vector b"
   ],
   "outputs": [],
   "metadata": {}
  },
  {
   "cell_type": "code",
   "execution_count": 11,
   "source": [
    "c = a+b"
   ],
   "outputs": [],
   "metadata": {}
  },
  {
   "cell_type": "code",
   "execution_count": 12,
   "source": [
    "print('La el vector c = a+b =',c)"
   ],
   "outputs": [
    {
     "output_type": "stream",
     "name": "stdout",
     "text": [
      "La el vector c = a+b = [ 0  0  0  0 10]\n"
     ]
    }
   ],
   "metadata": {}
  },
  {
   "cell_type": "markdown",
   "source": [
    "  "
   ],
   "metadata": {}
  },
  {
   "cell_type": "markdown",
   "source": [
    "**Problema:**\n",
    "\n",
    "Puedes ir al sitio [siguiente sitio](https://www.w3schools.com/colors/colors_rgb.asp), el sitio te permite introducir un vector del modelo RGB y te muestra el color al que corresponde.  \n",
    "\n",
    "Ahora, primer confirma a qué color corresponden el vector $\\vec{a} = [0,0,255]$ y así responde:\n",
    "* ¿Qué color obtienes si sumas $\\vec{rojo}+\\vec{verde}+\\vec{a}$? \n",
    "* ¿Qué color obtienes sumando $\\vec{rojo}+\\vec{verde}$?\n",
    "* ¿Qué color obtienes sumando $\\vec{negro}-\\vec{a}$? ¿Tiene sentido este resultado dentro del modelo aditivo RGB?"
   ],
   "metadata": {}
  }
 ],
 "metadata": {
  "kernelspec": {
   "display_name": "Python 3",
   "language": "python",
   "name": "python3"
  },
  "language_info": {
   "codemirror_mode": {
    "name": "ipython",
    "version": 3
   },
   "file_extension": ".py",
   "mimetype": "text/x-python",
   "name": "python",
   "nbconvert_exporter": "python",
   "pygments_lexer": "ipython3",
   "version": "3.7.3"
  }
 },
 "nbformat": 4,
 "nbformat_minor": 4
}