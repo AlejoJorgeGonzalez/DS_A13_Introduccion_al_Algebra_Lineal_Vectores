{
 "cells": [
  {
   "cell_type": "markdown",
   "source": [
    "# CLASE 18: UN MODELO DE REGRESIÓN"
   ],
   "metadata": {}
  },
  {
   "cell_type": "markdown",
   "source": [
    "# 7. Regresión lineal"
   ],
   "metadata": {}
  },
  {
   "cell_type": "markdown",
   "source": [
    "Usaremos la función afín:\n",
    "\n",
    "$$\n",
    "\\hat{y} = \\mathbf{x}^{T}\\boldsymbol{\\beta} + v\n",
    "$$\n",
    "\n",
    "Esta función es llamada un **modelo de regresión**. En este caso las entradas de $\\mathbf{x}$ son llamadas *regresores* y a $\\hat{y}$ se le llama *predicción*. Hay que notar que la regresión es un modelo, nos estamos aproximando a estimar nuestra variable dependiente $y$, algunas veces llamada también *label*, *etiqueta* o *resultado esperado*. "
   ],
   "metadata": {}
  },
  {
   "cell_type": "markdown",
   "source": [
    "Al vector $\\mathbf{\\beta}$ se le denomina el *vector de pesos* mientras que el escalar $v$ es llamado el offset o bias. En conjunto $v$ y $\\beta$ son los parámetros de la regresión. Recordamos que la notación $\\hat{y}$ es usando para enfatizar que es un estimado o prediccción del resultado esperado $y$. "
   ],
   "metadata": {}
  },
  {
   "cell_type": "markdown",
   "source": [
    "## 7.1 Notación simplificada de un modelo de regresión. "
   ],
   "metadata": {}
  },
  {
   "cell_type": "markdown",
   "source": [
    "La concatenación de vectores nos puede ayudar a expresar de manera más sencilla la ecuación de regresión. Notemos que podemos definir el $(n+1)$-vector $\\boldsymbol{\\tilde{\\beta}}^{T} = [v\\; \\boldsymbol{\\beta}]$ y de igual forma el $(n+1)$-vector $\\mathbf{\\widetilde{x}}^{T} = [1 \\; \\boldsymbol{x}]$ de manera que:\n",
    "\n",
    "$$\n",
    "\\hat{y} = \\mathbf{x}^{T}\\boldsymbol{\\beta} + v = \\begin{bmatrix}1\\\\ \\mathbf{x}\\end{bmatrix}^{T} \\begin{bmatrix} v\\\\\\boldsymbol{\\beta}  \\end{bmatrix} = \\mathbf{\\widetilde{x}}^{T} \\boldsymbol{\\widetilde{\\beta}}\n",
    "$$\n",
    "\n",
    "Por simplicidad algunas veces solamente se escribe $\\hat{y}=\\mathbf{x}^{T}\\boldsymbol{\\beta}$ sobreentendiendo nuestra construcción. "
   ],
   "metadata": {}
  },
  {
   "cell_type": "markdown",
   "source": [
    "## 7.2 Un ejemplo de regresión. "
   ],
   "metadata": {}
  },
  {
   "cell_type": "markdown",
   "source": [
    "Vamos a considerar el siguiente ejemplo donde vamos a analizar una base de datos del *GOLDEN OAK RESEARCH GROUP*. Nuestra variable dependiente serán el ingreso promedio por casa y nuestros regresores serán simplemente la latitud y la longitud. \n",
    "\n",
    "Para poder cargar la base vamos a importar en conjunto a numpy también **pandas** la cual es una biblioteca de manejo y manipulación de bases de datos tomando como bases sus objetos *dataframe*. "
   ],
   "metadata": {}
  },
  {
   "cell_type": "code",
   "execution_count": 2,
   "source": [
    "# Se importa las librerías necesarias.\n",
    "\n",
    "import matplotlib.pyplot as plt # Para poder realizar visualizaciones\n",
    "import pandas as pd # Para poder acceder a Pandas\n",
    "import numpy as np # Para poder tener vectores"
   ],
   "outputs": [],
   "metadata": {}
  },
  {
   "cell_type": "code",
   "execution_count": 3,
   "source": [
    "df = pd.read_csv('archivos/income_db_gorg.csv')"
   ],
   "outputs": [],
   "metadata": {}
  },
  {
   "cell_type": "code",
   "execution_count": 6,
   "source": [
    "df.columns"
   ],
   "outputs": [
    {
     "output_type": "execute_result",
     "data": {
      "text/plain": [
       "Index(['id', 'State_Code', 'State_Name', 'State_ab', 'County', 'City', 'Place',\n",
       "       'Type', 'Primary', 'Zip_Code', 'Area_Code', 'ALand', 'AWater', 'Lat',\n",
       "       'Lon', 'Mean', 'Median', 'Stdev', 'sum_w'],\n",
       "      dtype='object')"
      ]
     },
     "metadata": {},
     "execution_count": 6
    }
   ],
   "metadata": {}
  },
  {
   "cell_type": "markdown",
   "source": [
    "¿Qué data contiene la base de datos?"
   ],
   "metadata": {}
  },
  {
   "cell_type": "code",
   "execution_count": 7,
   "source": [
    "df.head()"
   ],
   "outputs": [
    {
     "output_type": "execute_result",
     "data": {
      "text/html": [
       "<div>\n",
       "<style scoped>\n",
       "    .dataframe tbody tr th:only-of-type {\n",
       "        vertical-align: middle;\n",
       "    }\n",
       "\n",
       "    .dataframe tbody tr th {\n",
       "        vertical-align: top;\n",
       "    }\n",
       "\n",
       "    .dataframe thead th {\n",
       "        text-align: right;\n",
       "    }\n",
       "</style>\n",
       "<table border=\"1\" class=\"dataframe\">\n",
       "  <thead>\n",
       "    <tr style=\"text-align: right;\">\n",
       "      <th></th>\n",
       "      <th>id</th>\n",
       "      <th>State_Code</th>\n",
       "      <th>State_Name</th>\n",
       "      <th>State_ab</th>\n",
       "      <th>County</th>\n",
       "      <th>City</th>\n",
       "      <th>Place</th>\n",
       "      <th>Type</th>\n",
       "      <th>Primary</th>\n",
       "      <th>Zip_Code</th>\n",
       "      <th>Area_Code</th>\n",
       "      <th>ALand</th>\n",
       "      <th>AWater</th>\n",
       "      <th>Lat</th>\n",
       "      <th>Lon</th>\n",
       "      <th>Mean</th>\n",
       "      <th>Median</th>\n",
       "      <th>Stdev</th>\n",
       "      <th>sum_w</th>\n",
       "    </tr>\n",
       "  </thead>\n",
       "  <tbody>\n",
       "    <tr>\n",
       "      <th>0</th>\n",
       "      <td>1011000</td>\n",
       "      <td>1</td>\n",
       "      <td>Alabama</td>\n",
       "      <td>AL</td>\n",
       "      <td>Mobile County</td>\n",
       "      <td>Chickasaw</td>\n",
       "      <td>Chickasaw city</td>\n",
       "      <td>City</td>\n",
       "      <td>place</td>\n",
       "      <td>36611</td>\n",
       "      <td>251</td>\n",
       "      <td>10894952</td>\n",
       "      <td>909156</td>\n",
       "      <td>30.771450</td>\n",
       "      <td>-88.079697</td>\n",
       "      <td>38773</td>\n",
       "      <td>30506</td>\n",
       "      <td>33101</td>\n",
       "      <td>1638.260513</td>\n",
       "    </tr>\n",
       "    <tr>\n",
       "      <th>1</th>\n",
       "      <td>1011010</td>\n",
       "      <td>1</td>\n",
       "      <td>Alabama</td>\n",
       "      <td>AL</td>\n",
       "      <td>Barbour County</td>\n",
       "      <td>Louisville</td>\n",
       "      <td>Clio city</td>\n",
       "      <td>City</td>\n",
       "      <td>place</td>\n",
       "      <td>36048</td>\n",
       "      <td>334</td>\n",
       "      <td>26070325</td>\n",
       "      <td>23254</td>\n",
       "      <td>31.708516</td>\n",
       "      <td>-85.611039</td>\n",
       "      <td>37725</td>\n",
       "      <td>19528</td>\n",
       "      <td>43789</td>\n",
       "      <td>258.017685</td>\n",
       "    </tr>\n",
       "    <tr>\n",
       "      <th>2</th>\n",
       "      <td>1011020</td>\n",
       "      <td>1</td>\n",
       "      <td>Alabama</td>\n",
       "      <td>AL</td>\n",
       "      <td>Shelby County</td>\n",
       "      <td>Columbiana</td>\n",
       "      <td>Columbiana city</td>\n",
       "      <td>City</td>\n",
       "      <td>place</td>\n",
       "      <td>35051</td>\n",
       "      <td>205</td>\n",
       "      <td>44835274</td>\n",
       "      <td>261034</td>\n",
       "      <td>33.191452</td>\n",
       "      <td>-86.615618</td>\n",
       "      <td>54606</td>\n",
       "      <td>31930</td>\n",
       "      <td>57348</td>\n",
       "      <td>926.031000</td>\n",
       "    </tr>\n",
       "    <tr>\n",
       "      <th>3</th>\n",
       "      <td>1011030</td>\n",
       "      <td>1</td>\n",
       "      <td>Alabama</td>\n",
       "      <td>AL</td>\n",
       "      <td>Mobile County</td>\n",
       "      <td>Satsuma</td>\n",
       "      <td>Creola city</td>\n",
       "      <td>City</td>\n",
       "      <td>place</td>\n",
       "      <td>36572</td>\n",
       "      <td>251</td>\n",
       "      <td>36878729</td>\n",
       "      <td>2374530</td>\n",
       "      <td>30.874343</td>\n",
       "      <td>-88.009442</td>\n",
       "      <td>63919</td>\n",
       "      <td>52814</td>\n",
       "      <td>47707</td>\n",
       "      <td>378.114619</td>\n",
       "    </tr>\n",
       "    <tr>\n",
       "      <th>4</th>\n",
       "      <td>1011040</td>\n",
       "      <td>1</td>\n",
       "      <td>Alabama</td>\n",
       "      <td>AL</td>\n",
       "      <td>Mobile County</td>\n",
       "      <td>Dauphin Island</td>\n",
       "      <td>Dauphin Island</td>\n",
       "      <td>Town</td>\n",
       "      <td>place</td>\n",
       "      <td>36528</td>\n",
       "      <td>251</td>\n",
       "      <td>16204185</td>\n",
       "      <td>413605152</td>\n",
       "      <td>30.250913</td>\n",
       "      <td>-88.171268</td>\n",
       "      <td>77948</td>\n",
       "      <td>67225</td>\n",
       "      <td>54270</td>\n",
       "      <td>282.320328</td>\n",
       "    </tr>\n",
       "  </tbody>\n",
       "</table>\n",
       "</div>"
      ],
      "text/plain": [
       "        id  State_Code State_Name State_ab          County            City  \\\n",
       "0  1011000           1    Alabama       AL   Mobile County       Chickasaw   \n",
       "1  1011010           1    Alabama       AL  Barbour County      Louisville   \n",
       "2  1011020           1    Alabama       AL   Shelby County      Columbiana   \n",
       "3  1011030           1    Alabama       AL   Mobile County         Satsuma   \n",
       "4  1011040           1    Alabama       AL   Mobile County  Dauphin Island   \n",
       "\n",
       "             Place  Type Primary  Zip_Code Area_Code     ALand     AWater  \\\n",
       "0   Chickasaw city  City   place     36611       251  10894952     909156   \n",
       "1        Clio city  City   place     36048       334  26070325      23254   \n",
       "2  Columbiana city  City   place     35051       205  44835274     261034   \n",
       "3      Creola city  City   place     36572       251  36878729    2374530   \n",
       "4   Dauphin Island  Town   place     36528       251  16204185  413605152   \n",
       "\n",
       "         Lat        Lon   Mean  Median  Stdev        sum_w  \n",
       "0  30.771450 -88.079697  38773   30506  33101  1638.260513  \n",
       "1  31.708516 -85.611039  37725   19528  43789   258.017685  \n",
       "2  33.191452 -86.615618  54606   31930  57348   926.031000  \n",
       "3  30.874343 -88.009442  63919   52814  47707   378.114619  \n",
       "4  30.250913 -88.171268  77948   67225  54270   282.320328  "
      ]
     },
     "metadata": {},
     "execution_count": 7
    }
   ],
   "metadata": {}
  },
  {
   "cell_type": "markdown",
   "source": [
    "¿Qué tamaño tiene?"
   ],
   "metadata": {}
  },
  {
   "cell_type": "code",
   "execution_count": 8,
   "source": [
    "print('Filas: ', len(df))\n",
    "print('Columnas: ', len(df.columns))\n",
    "print('Tamaño total: ', len(df)*len(df.columns))"
   ],
   "outputs": [
    {
     "output_type": "stream",
     "name": "stdout",
     "text": [
      "Filas:  32526\n",
      "Columnas:  19\n",
      "Tamaño total:  617994\n"
     ]
    }
   ],
   "metadata": {}
  },
  {
   "cell_type": "markdown",
   "source": [
    "Ahora bien, como comenté nuestros regresores en términos de columnas son:\n",
    "* Lat\n",
    "* Lon\n",
    "\n",
    "Mientras que nuestra variable dependiente es:\n",
    "* Mean "
   ],
   "metadata": {}
  },
  {
   "cell_type": "markdown",
   "source": [
    "Ahora, calcular el vector predicciones $\\hat{y}$ ya que cada valor de Lat y Lon tendrá asociado un valor de Mean y es justo el que queremos aproximar con $\\hat{y}$. Ahora, como no forma parte de este curso ya tenemos unos parámetros dados:\n",
    "\n",
    "$$\n",
    "v = 30980.48, \\qquad \\boldsymbol{\\beta} = \\begin{bmatrix}744.83 \\\\ -83.45\\end{bmatrix}\n",
    "$$\n",
    "\n",
    "Con lo cual ya podemos realizar las predicciones $\\hat{y}_{i} = \\mathbf{x}^{T}_{i} \\boldsymbol{\\beta} + v$"
   ],
   "metadata": {}
  },
  {
   "cell_type": "code",
   "execution_count": 9,
   "source": [
    "# Funcion afin al modelo\n",
    "def pred(x):\n",
    "    beta = np.array([744.83, -83.45])\n",
    "    v = 30980.48\n",
    "    return x@beta + v"
   ],
   "outputs": [],
   "metadata": {}
  },
  {
   "cell_type": "code",
   "execution_count": 10,
   "source": [
    "type(df['Lat'])"
   ],
   "outputs": [
    {
     "output_type": "execute_result",
     "data": {
      "text/plain": [
       "pandas.core.series.Series"
      ]
     },
     "metadata": {},
     "execution_count": 10
    }
   ],
   "metadata": {}
  },
  {
   "cell_type": "markdown",
   "source": [
    "Se puede observar que el tipo de la columna a extraer es de pandas, pero no de numpy, por tanto se debe convertir esto a un array de numpy, el cuál se obtiene con el método values"
   ],
   "metadata": {}
  },
  {
   "cell_type": "code",
   "execution_count": 11,
   "source": [
    "type(df['Lat'].values)"
   ],
   "outputs": [
    {
     "output_type": "execute_result",
     "data": {
      "text/plain": [
       "numpy.ndarray"
      ]
     },
     "metadata": {},
     "execution_count": 11
    }
   ],
   "metadata": {}
  },
  {
   "cell_type": "markdown",
   "source": [
    "Efectivamente con values se convierte el objeto de pandas en un array de numpy, de igual forma se puede convertir varias columnas de pandas a un array de numpy, sin olvidar que las columnas se llaman con doble parentesis cuadrados"
   ],
   "metadata": {}
  },
  {
   "cell_type": "code",
   "execution_count": 13,
   "source": [
    "df[['Lat', 'Lon']].values"
   ],
   "outputs": [
    {
     "output_type": "execute_result",
     "data": {
      "text/plain": [
       "array([[ 30.77145  , -88.079697 ],\n",
       "       [ 31.708516 , -85.611039 ],\n",
       "       [ 33.191452 , -86.615618 ],\n",
       "       ...,\n",
       "       [ 18.3565654, -67.180686 ],\n",
       "       [ 18.4120413, -67.2134127],\n",
       "       [ 18.4780938, -67.1604529]])"
      ]
     },
     "metadata": {},
     "execution_count": 13
    }
   ],
   "metadata": {}
  },
  {
   "cell_type": "code",
   "execution_count": 15,
   "source": [
    "# X se convierte en las columnas a estudiar (Latitud y Longitud)\n",
    "X = df[['Lat', 'Lon']].values\n",
    "# Se realiza la predicción\n",
    "Y_hat = pred(X)\n",
    "print('Y_hat:\\n', Y_hat, '\\nType:\\n', type(Y_hat), '\\nLongitud:\\n', len(Y_hat))"
   ],
   "outputs": [
    {
     "output_type": "stream",
     "name": "stdout",
     "text": [
      "Y_hat:\n",
      " [61250.22981815 61742.17517683 62930.54251526 ... 50259.22885358\n",
      " 50303.28001129 50348.05839956] \n",
      "Type:\n",
      " <class 'numpy.ndarray'> \n",
      "Longitud:\n",
      " 32526\n"
     ]
    }
   ],
   "metadata": {}
  },
  {
   "cell_type": "code",
   "execution_count": 16,
   "source": [
    "# Se crea la variable Y que son los valores verdaderos\n",
    "Y = df['Mean'].values"
   ],
   "outputs": [],
   "metadata": {}
  },
  {
   "cell_type": "code",
   "execution_count": 17,
   "source": [
    "# Se grafica para ver visualmente como se aproxima la predicción a \n",
    "# la realidad\n",
    "fig, ax = plt.subplots(1, 1, figsize=(7,7), dpi=120)\n",
    "ax.scatter(Y_hat, Y, marker = 'o', color='red')\n",
    "ax.plot(Y, Y, ls='--')\n",
    "plt.show()"
   ],
   "outputs": [
    {
     "output_type": "display_data",
     "data": {
      "image/png": "[encoded data removed]",
      "text/plain": [
       "<Figure size 840x840 with 1 Axes>"
      ]
     },
     "metadata": {
      "needs_background": "light"
     }
    }
   ],
   "metadata": {}
  },
  {
   "cell_type": "markdown",
   "source": [
    "La gráfica muestra que los datos de predicción no corresponde con la realidad, lo que significa que hay que reentrenar los parametros."
   ],
   "metadata": {}
  },
  {
   "cell_type": "markdown",
   "source": [
    "¿Cómo calculamos el error?"
   ],
   "metadata": {}
  },
  {
   "cell_type": "markdown",
   "source": [
    "## 7.3 Ejercicio. \n",
    "\n",
    "Considera que ya no solamente usamos Lat y Lon como regresores sino también comenzamos a usar Zip_Code como regresor, ajustar ese modelo nos deja con los siguientes parámetros:\n",
    "$$\n",
    "v = 4152.02, \\qquad \\boldsymbol{\\beta} = \\begin{bmatrix}6.55490348e+02 \\\\ 5.75918372e+02 \\\\ -2.94216316e-01\\end{bmatrix}\n",
    "$$\n",
    "\n",
    "¿Mejora la preducción al introducir un nuevo regresor?"
   ],
   "metadata": {}
  },
  {
   "cell_type": "markdown",
   "source": [
    "## Enlaces Externos\n",
    "\n",
    "[Pandas](https://pandas.pydata.org/)\n",
    "\n",
    "[Matplotlib](https://matplotlib.org/3.3.2/api/_as_gen/matplotlib.pyplot.scatter.html)\n",
    "\n",
    "[Colab Original](https://colab.research.google.com/drive/1a9z-u3RUndOQYqAe_J1-JfdCzHNo5pWM?usp=sharing)"
   ],
   "metadata": {}
  }
 ],
 "metadata": {
  "kernelspec": {
   "name": "python3",
   "display_name": "Python 3.8.10 64-bit ('venv': venv)"
  },
  "language_info": {
   "codemirror_mode": {
    "name": "ipython",
    "version": 3
   },
   "file_extension": ".py",
   "mimetype": "text/x-python",
   "name": "python",
   "nbconvert_exporter": "python",
   "pygments_lexer": "ipython3",
   "version": "3.8.10"
  },
  "interpreter": {
   "hash": "402c3ce22046ee1ecb4526ff3875833594eb9f670609218e3d751b8e7c24a0d0"
  }
 },
 "nbformat": 4,
 "nbformat_minor": 4
}