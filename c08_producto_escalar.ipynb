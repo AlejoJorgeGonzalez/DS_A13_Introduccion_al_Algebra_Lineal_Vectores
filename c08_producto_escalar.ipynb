{
 "cells": [
  {
   "cell_type": "markdown",
   "source": [
    "# CLASE 07: PRODUCTO ESCALAR VECTOR"
   ],
   "metadata": {}
  },
  {
   "cell_type": "markdown",
   "source": [
    "# 3. Producto por un escalar o multiplicación escalar-vector."
   ],
   "metadata": {}
  },
  {
   "cell_type": "markdown",
   "source": [
    "Otra operación es el *producto por un escalar* o *multiplicación escalar-vector* en la cual un vector es multiplicado por un escalar. La operación se hace elemento a elemento. Sea $\\vec{v}$ un vector de $\\mathbb{R}^{n}$ y $\\alpha \\in \\mathbb{R}$. Si $\\vec{x} = \\alpha \\vec{v}$ entonces:\n",
    "$$\n",
    "\\vec{x} = \\alpha \\vec{v} =   \\alpha\\begin{bmatrix}v_{0}\\\\ v_{1}\\\\ \\vdots \\\\ v_{n-1}\\end{bmatrix} = \\begin{bmatrix}\\alpha \\cdot v_{0}\\\\ \\alpha \\cdot v_{1}\\\\ \\vdots \\\\ \\alpha \\cdot v_{n-1}\\end{bmatrix}\n",
    "$$"
   ],
   "metadata": {}
  },
  {
   "cell_type": "markdown",
   "source": [
    "Por ejemplo, si $\\vec{v} = (0,1,-2.3)$ y $\\alpha = -1.1$ entonces $\\alpha \\vec{v} = (0,-1.1,2.53)$"
   ],
   "metadata": {}
  },
  {
   "cell_type": "code",
   "execution_count": 1,
   "source": [
    "# Se comprueba la operación \n",
    "print('0*-1.1: ', 0*1.1)\n",
    "print('1*-1.1: ', 1*-1.1)\n",
    "print('-2.3*-1.1: ', -2.3*-1.1)"
   ],
   "outputs": [
    {
     "output_type": "stream",
     "name": "stdout",
     "text": [
      "0*-1.1:  0.0\n",
      "1*-1.1:  -1.1\n",
      "-2.3*-1.1:  2.53\n"
     ]
    }
   ],
   "metadata": {}
  },
  {
   "cell_type": "markdown",
   "source": [
    "## 3.1 Propiedades del producto por un escalar-vector"
   ],
   "metadata": {}
  },
  {
   "cell_type": "markdown",
   "source": [
    "Sean $\\vec{x},\\vec{y}$ dos vectores y $\\alpha, \\beta$ dos escalares cualquiera. Las propiedades que cumple el producto escalar-vector son las siguientes:\n",
    "* Conmutatividad: $\\alpha \\vec{x} = \\vec{x}\\alpha $\n",
    "\n",
    "* Asociatividad: $(\\beta \\alpha)\\vec{x} = \\beta (\\alpha\\vec{x})$\n",
    "\n",
    "* Distribución sobre suma escalar: $(\\alpha + \\beta)\\vec{x} = \\alpha \\vec{x} + \\beta\\vec{x} =\\beta\\vec{x} + \\alpha\\vec{x} = \\vec{x}(\\alpha + \\beta) $\n",
    "\n",
    "* Distribución sobre suma de vectores: $\\alpha (\\vec{x}+\\vec{y}) = \\alpha\\vec{x} + \\alpha\\vec{y}$"
   ],
   "metadata": {}
  },
  {
   "cell_type": "markdown",
   "source": [
    "## 3.2 Algunas consideraciones"
   ],
   "metadata": {}
  },
  {
   "cell_type": "markdown",
   "source": [
    "**Combinaciones lineales**. Sean $\\vec{a}_{0},\\vec{a}_{1},\\dots,\\vec{a}_{m-1}$ $n$-vectores y $\\beta_{0},\\beta_{1},\\dots,\\beta_{m-1}$ escalares entonces podemos definir el siguiente $n$-vector:\n",
    "\n",
    "$$\n",
    "\\beta_{0}\\vec{a}_{0}+\\beta_{1}\\vec{a}_{1}+\\cdots+\\beta_{m-1}\\vec{a}_{m-1}\n",
    "$$\n",
    "\n",
    "Es llamado una *combinación lineal* de los vectores $\\vec{a}_{0},\\vec{a}_{1},\\dots,\\vec{a}_{m-1}$. Los escalares $\\beta_{0},\\beta_{1},\\dots,\\beta_{m-1}$ son llamados los *coeficientes* de la combinación lineal."
   ],
   "metadata": {}
  },
  {
   "cell_type": "markdown",
   "source": [
    "**Combinaciones lineales de vectores unitarios**. Es posible escribir cualquier $\\vec{b}$ $n$-vector como combinación lineal de los vectores unitarios estándar:\n",
    "\n",
    "$$\n",
    "\\vec{b} = b_{0}\\hat{e}_{0}+b_{1}\\hat{e}_{1} + \\cdots +b_{n-1}\\hat{e}_{n-1}\n",
    "$$\n",
    "\n",
    "Con $b_{i}$ escalares y $\\hat{e}_{i}$ el i-ésimo vector unitario. Un ejemplo específico sería:\n",
    "\n",
    "$$\n",
    "\\begin{bmatrix}1\\\\ -1\\\\ 0\\end{bmatrix} = (1)\\begin{bmatrix}1\\\\ 0\\\\ 0\\end{bmatrix} + (-1)\\begin{bmatrix}0\\\\ 1\\\\ 0\\end{bmatrix} + (0)\\begin{bmatrix}0\\\\ 0\\\\ 1\\end{bmatrix}\n",
    "$$\n",
    "\n",
    "Como nota final aquí, notemos que si el espacio vectorial es de dimensión $n$ entonces tiene $n$ vectores unitarios $\\hat{e}_{i}$\n"
   ],
   "metadata": {}
  },
  {
   "cell_type": "markdown",
   "source": [
    "**Combinaciones lineales especiales**. Algunas combinaciones de $n$-vectores $\\vec{a}_{0},\\vec{a}_{1},\\dots,\\vec{a}_{m-1}$ tienen nombres especiales.  Por ejemplo, si los coeficientes de la combinación lineal son tales que $\\beta_{0}=\\beta_{1}=\\cdots=\\beta_{m-1} = 1$ entonces simplemente es una suma de vectores. Si en cambio $\\beta_{0}=\\beta_{1}=\\cdots=\\beta_{m-1} = 1/m$ entonces la combinación lineal se llama el *promedio de vectores*.       \n",
    "Cuando $\\beta_{0}+\\beta_{1}+\\cdots+\\beta_{m-1}=1$ entonces la combinación lineal se llama *combinación afín*, cuando los coeficientes $\\beta_{i}$ son no-negativos entonces la combinación lineal es llamada una *mezcla*, *combinación convexa* o un *promedio pesado*."
   ],
   "metadata": {}
  },
  {
   "cell_type": "markdown",
   "source": [
    "# CLASE 08: PRODUCTO ESCALAR-VECTOR EN PYTHON"
   ],
   "metadata": {}
  },
  {
   "cell_type": "markdown",
   "source": [
    "## 3.3 Producto por un escalar-vector en Python"
   ],
   "metadata": {}
  },
  {
   "cell_type": "markdown",
   "source": [
    "Desde la clase pasada introducimos Numpy para manejo de vectores. Una de las fortunas de usar numpy sobre listas es la simpleta de este tipo de operaciones. Realizar esta operación será tan sencillo como usar el operador $*$. "
   ],
   "metadata": {}
  },
  {
   "cell_type": "code",
   "execution_count": 1,
   "source": [
    "# Se muestra la opéración sin usar la librería de Python\n",
    "a = [1,1,1]\n",
    "print(a*3)"
   ],
   "outputs": [
    {
     "output_type": "stream",
     "name": "stdout",
     "text": [
      "[1, 1, 1, 1, 1, 1, 1, 1, 1]\n"
     ]
    }
   ],
   "metadata": {}
  },
  {
   "cell_type": "markdown",
   "source": [
    "Sin la librería de numpy, la multiplicación de vector por escalar, resultar en el concatenación de n veces el escalar del vector, lo cuál matemáticamente no es correcto."
   ],
   "metadata": {}
  },
  {
   "cell_type": "markdown",
   "source": [
    "Partamos del vector $\\vec{x}= (1,-1,1)$ y del escalar $a = 3.1$ entonces, realicemos las operaciones $a\\vec{x}$ y $\\vec{x}a$"
   ],
   "metadata": {}
  },
  {
   "cell_type": "code",
   "execution_count": 2,
   "source": [
    "# Se importa las librerías necesarias\n",
    "import numpy as np"
   ],
   "outputs": [],
   "metadata": {}
  },
  {
   "cell_type": "code",
   "execution_count": 3,
   "source": [
    "# Se declara el vector x y el escalar a\n",
    "x = np.array([1,-1,1])\n",
    "a = 3.1\n",
    "\n",
    "# Se comprueba la propiedad conmutativa\n",
    "print('ax es:\\n', a*x)\n",
    "print('xa es:\\n', x*a)"
   ],
   "outputs": [
    {
     "output_type": "stream",
     "name": "stdout",
     "text": [
      "ax es:\n",
      " [ 3.1 -3.1  3.1]\n",
      "xa es:\n",
      " [ 3.1 -3.1  3.1]\n"
     ]
    }
   ],
   "metadata": {}
  },
  {
   "cell_type": "markdown",
   "source": [
    "Se compruba la propiedad conmutativa de la multiplicación de un escalar por un vector, ahora se realiza la propiedad distributiva sobre suma escalar."
   ],
   "metadata": {}
  },
  {
   "cell_type": "code",
   "execution_count": 4,
   "source": [
    "# Se crea otro escalar\n",
    "b = -a\n",
    "\n",
    "# Se comprueba la propiedad distributiva sobre suma de escalares\n",
    "print('(a+b)*x es: \\n', (a + b)*x)\n",
    "print('a*x + b*x: \\n', a*x + b*x)"
   ],
   "outputs": [
    {
     "output_type": "stream",
     "name": "stdout",
     "text": [
      "(a+b)*x es: \n",
      " [ 0. -0.  0.]\n",
      "a*x + b*x: \n",
      " [0. 0. 0.]\n"
     ]
    }
   ],
   "metadata": {}
  },
  {
   "cell_type": "markdown",
   "source": [
    "Se comprueba la propiedad distributiva sobre suma de escalares. \n",
    "\n",
    "Se con considera el sigueinte vector mas tres escalares\n",
    "\n",
    "$$\n",
    "\\vec{v} = (1,1)\\newline\n",
    "\\alpha = -1\\newline\n",
    "\\beta = 2\\newline\n",
    "\\gamma = 0.1\n",
    "$$"
   ],
   "metadata": {}
  },
  {
   "cell_type": "code",
   "execution_count": 5,
   "source": [
    "# Se define el vector\n",
    "v = np.array([1,1])\n",
    "# Se define los escalares\n",
    "alpha = -1\n",
    "beta = 2\n",
    "gamma = 0.1\n",
    "\n",
    "# Algunas operaciones\n",
    "print('v*alpha:\\n', v*alpha)\n",
    "print('v*beta:\\n', v*beta)\n",
    "print('v*gamma:\\n', v*gamma)"
   ],
   "outputs": [
    {
     "output_type": "stream",
     "name": "stdout",
     "text": [
      "v*alpha:\n",
      " [-1 -1]\n",
      "v*beta:\n",
      " [2 2]\n",
      "v*gamma:\n",
      " [0.1 0.1]\n"
     ]
    }
   ],
   "metadata": {}
  },
  {
   "cell_type": "markdown",
   "source": [
    "Para representar estos valores geometricamente se recurre a la página de [GeoGebra](https://geogebra.org/calculator), inicialmente se tiene el vector que se representa geometricamente como:\n",
    "\n",
    "![](imagenes/img1.png)\n",
    "\n",
    "Ahora se muestran los vector multiplicado por los escalares, siendo v el vector de v(alpha), w el vector de v(beta) y a el vector multiplicado por v(gamma)\n",
    "\n",
    "![](imagenes/img2.png)\n",
    "\n",
    "El vector multiplicado por un escalar negativo cambia la dirección del vector. Al multiplicar por un escalar mayor que uno se obtiene un vector (w) mas grande, mientras que al multiplicar por un número menor que 1, se obtiene un vector (a) mas corto. Por tanto el escalar va a afectar el vector, amplificandolo, comprimiendolo o cambiandole el sentido."
   ],
   "metadata": {}
  },
  {
   "cell_type": "markdown",
   "source": [
    "## 3.3 Ejercicios"
   ],
   "metadata": {}
  },
  {
   "cell_type": "markdown",
   "source": [
    "**Problema 1**. Escribe TODOS los vectores unitarios estándar de $\\mathbb{R}^{4}$. *Hint:* son cuatro. \n",
    "\n",
    "**Solución:**\n",
    "\n",
    "$$\n",
    "\\hat{e}_{0}=\\begin{bmatrix} 1\\\\ 0\\\\ 0\\\\ 0\\end{bmatrix}\\ \n",
    "\\hat{e}_{1}=\\begin{bmatrix} 0\\\\ 1\\\\ 0\\\\ 0\\end{bmatrix}\\ \n",
    "\\hat{e}_{2}=\\begin{bmatrix} 0\\\\ 0\\\\ 1\\\\ 0\\end{bmatrix}\\ \n",
    "\\hat{e}_{3}=\\begin{bmatrix} 0\\\\ 0\\\\ 0\\\\ 1\\end{bmatrix}\n",
    "$$"
   ],
   "metadata": {}
  },
  {
   "cell_type": "markdown",
   "source": [
    "**Problema 2**. Escribe tres combinaciones lineales de vectores en $\\mathbb{R}^{3}$ para expresar el vector $[1,1,1]$.\n",
    "\n",
    "**Solución:**"
   ],
   "metadata": {}
  },
  {
   "cell_type": "code",
   "execution_count": 6,
   "source": [
    "# Vector\n",
    "v = np.array([1,1,1])\n",
    "\n",
    "# Escalares\n",
    "alpha = -1\n",
    "beta = 2\n",
    "gamma = 0.5\n",
    "\n",
    "print('vector:\\n', v)\n",
    "#Combinación\n",
    "print('Combinación:\\n', alpha*v + beta*v + gamma*v)"
   ],
   "outputs": [
    {
     "output_type": "stream",
     "name": "stdout",
     "text": [
      "vector:\n",
      " [1 1 1]\n",
      "Combinación:\n",
      " [1.5 1.5 1.5]\n"
     ]
    }
   ],
   "metadata": {}
  },
  {
   "cell_type": "markdown",
   "source": [
    "**Problema 3.** Escribe tres combinaciones afines con vectores de $\\mathbb{R}^{3}$ donde $\\beta_{0}\\neq\\beta_{1}\\neq\\beta_{2}$ pero que se cumpla que $\\beta_{0}+\\beta_{1}+\\beta_{2}=1$. *HINT*: Si no se te ocurre ninguna combinación para los coeficientes la ecuación $\\beta_{0}+\\beta_{1}+\\beta_{2}=1$ tiene infinitas soluciones, puedes hacer un programa para encontrar tres. "
   ],
   "metadata": {}
  },
  {
   "cell_type": "code",
   "execution_count": 7,
   "source": [
    "a = np.linspace(0, 5, 1000)"
   ],
   "outputs": [],
   "metadata": {}
  },
  {
   "cell_type": "code",
   "execution_count": 10,
   "source": [
    "a[1] - a[0]"
   ],
   "outputs": [
    {
     "output_type": "execute_result",
     "data": {
      "text/plain": [
       "0.005005005005005005"
      ]
     },
     "metadata": {},
     "execution_count": 10
    }
   ],
   "metadata": {}
  },
  {
   "cell_type": "code",
   "execution_count": 11,
   "source": [
    "a[2] - a[1]"
   ],
   "outputs": [
    {
     "output_type": "execute_result",
     "data": {
      "text/plain": [
       "0.005005005005005005"
      ]
     },
     "metadata": {},
     "execution_count": 11
    }
   ],
   "metadata": {}
  },
  {
   "cell_type": "code",
   "execution_count": 12,
   "source": [
    "a[999] - a[998]"
   ],
   "outputs": [
    {
     "output_type": "execute_result",
     "data": {
      "text/plain": [
       "0.005005005005005003"
      ]
     },
     "metadata": {},
     "execution_count": 12
    }
   ],
   "metadata": {}
  },
  {
   "cell_type": "code",
   "execution_count": 13,
   "source": [
    "a[0]"
   ],
   "outputs": [
    {
     "output_type": "execute_result",
     "data": {
      "text/plain": [
       "0.0"
      ]
     },
     "metadata": {},
     "execution_count": 13
    }
   ],
   "metadata": {}
  },
  {
   "cell_type": "code",
   "execution_count": 14,
   "source": [
    "a[999]"
   ],
   "outputs": [
    {
     "output_type": "execute_result",
     "data": {
      "text/plain": [
       "5.0"
      ]
     },
     "metadata": {},
     "execution_count": 14
    }
   ],
   "metadata": {}
  },
  {
   "cell_type": "markdown",
   "source": [
    "**Solución**"
   ],
   "metadata": {}
  },
  {
   "cell_type": "code",
   "execution_count": 18,
   "source": [
    "[b0, b1] = np.random.rand(2)\n",
    "b2 = 1 - b0 - b1\n",
    "print('b0: ', b0, 'b1: ', b1, 'b2: ', b2)"
   ],
   "outputs": [
    {
     "output_type": "stream",
     "name": "stdout",
     "text": [
      "b0:  0.3365595469327308 b1:  0.09683604139223456 b2:  0.5666044116750346\n"
     ]
    }
   ],
   "metadata": {}
  },
  {
   "cell_type": "markdown",
   "source": [
    "## Enlaces Externos\n",
    "\n",
    "[GeoGebra](https://geogebra.org/calculator)\n",
    "\n",
    "[Colab Original](https://colab.research.google.com/drive/1uF1QvMQBR9B-UPPUKg8d4DVuZNROqUA_?usp=sharing)"
   ],
   "metadata": {}
  }
 ],
 "metadata": {
  "kernelspec": {
   "name": "python3",
   "display_name": "Python 3.8.10 64-bit ('venv': venv)"
  },
  "language_info": {
   "codemirror_mode": {
    "name": "ipython",
    "version": 3
   },
   "file_extension": ".py",
   "mimetype": "text/x-python",
   "name": "python",
   "nbconvert_exporter": "python",
   "pygments_lexer": "ipython3",
   "version": "3.8.10"
  },
  "interpreter": {
   "hash": "402c3ce22046ee1ecb4526ff3875833594eb9f670609218e3d751b8e7c24a0d0"
  }
 },
 "nbformat": 4,
 "nbformat_minor": 4
}