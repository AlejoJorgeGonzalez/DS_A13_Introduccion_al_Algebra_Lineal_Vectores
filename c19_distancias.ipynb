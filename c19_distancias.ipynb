{
 "cells": [
  {
   "cell_type": "markdown",
   "source": [
    "# CLASE 19: CÓMO CALCULAR DISTANCIAS ENTRE VECTORES"
   ],
   "metadata": {}
  },
  {
   "cell_type": "markdown",
   "source": [
    "# 8. Distancia y Norma"
   ],
   "metadata": {}
  },
  {
   "cell_type": "markdown",
   "source": [
    "En clases pasadas hablamos de la magnitud de un vector pero no dimos una forma de poder medirla, esa magnitud la podremos calcular a través de la *norma Euclidiana*:\n",
    "\n",
    "$$\n",
    "||x|| = \\displaystyle\\sqrt{x_{0}^2 + x_{1}^2 + \\cdots + x_{n-1}^{2}} = \\displaystyle\\sqrt(x^Tx)\n",
    "$$\n",
    "\n",
    "Hay que notar que $x$ en la expresión anterior es un $n$-vector. \n",
    "Pongamos un ejemplo con $x^T = [1,2,3]$\n",
    "\n",
    "$$\n",
    "||x|| = \\displaystyle\\sqrt{1^2 + 2^2 + 3^2} = \\sqrt{14} \\approx 3.74\n",
    "$$\n",
    "\n",
    "Realizaremos otro con $x^T = [2,-1,2]$\n",
    "\n",
    "$$\n",
    "||x|| = \\displaystyle\\sqrt{2^2 + (-1)^2 + 2^2} = \\sqrt{9} = 3\n",
    "$$"
   ],
   "metadata": {}
  },
  {
   "cell_type": "markdown",
   "source": [
    "## 8.1 Propieades de la norma"
   ],
   "metadata": {}
  },
  {
   "cell_type": "markdown",
   "source": [
    "Como todas las operaciones con las que trabajamos hasta ahora la norma también cumple una serie de propiedades. Sean $x$, $y$ son $n$-vectores y $\\beta$ un escalar cualquiera, tenemos que la norma cumple:\n",
    "* Homogeneídad no negativa: $||\\beta x|| = |\\beta|\\cdot ||x||$\n",
    "\n",
    "* Desigualdad del triángulo: $||x+y|| \\le ||x|| + ||y||$ \n",
    "\n",
    "* No-negatividad: $||x||\\ge 0$ y además $||x|| = 0$ si y solamente si $x = \\mathbf{0}$"
   ],
   "metadata": {}
  },
  {
   "cell_type": "markdown",
   "source": [
    "La norma es ampliamente usada, en particular podemos señalar los siguientes ejemplos:\n",
    "\n",
    "**Valor cuadrático medio.** Algunas veces también es llamado simplemente **RMS** (root mean square) y se define como sigue:\n",
    "\n",
    "$$\n",
    "rms(x) = \\displaystyle\\sqrt{\\frac{x_{0}^2 + x_{1}^2 + \\cdots + x_{n-1}^{2}}{n}} = \\frac{||x||}{\\sqrt{n}}\n",
    "$$"
   ],
   "metadata": {}
  },
  {
   "cell_type": "markdown",
   "source": [
    "**Norma de una suma.** Si tenemos dos vectores $x$ y $y$ entonces la norma de la suma es\n",
    "\n",
    "$$\n",
    "||x+y|| = \\displaystyle\\sqrt{||x||^{2} + 2x^{T}y + ||y||^{2}}\n",
    "$$"
   ],
   "metadata": {}
  },
  {
   "cell_type": "markdown",
   "source": [
    "**Norma de una bloque de vectores.** La norma de bloque de vectores será simplemente la raíz cuadrada de la suma de sus componentes. Si tenemos $d$ un $k$-vector con componentes $d_{i}$ que son $n$-vectores entonces tenemos que:\n",
    "\n",
    "$$\n",
    "||d|| = \\displaystyle\\sqrt{||d_{0}||^{2}+||d_{1}||^{2}+\\cdots + ||d_{n-1}||^{2}}\n",
    "$$"
   ],
   "metadata": {}
  },
  {
   "cell_type": "code",
   "execution_count": 1,
   "source": [
    "# Se importa la librerías necesarias\n",
    "import numpy as np"
   ],
   "outputs": [],
   "metadata": {}
  },
  {
   "cell_type": "code",
   "execution_count": 2,
   "source": [
    "# Función para hallar la norma de un vectos\n",
    "def norma(x):\n",
    "    return np.sqrt(x@x)"
   ],
   "outputs": [],
   "metadata": {}
  },
  {
   "cell_type": "code",
   "execution_count": 6,
   "source": [
    "# Se crea ek vector\n",
    "u = np.array([1,1])\n",
    "\n",
    "# Se halla la norma\n",
    "print('norma(u):\\n', norma(u))\n",
    "print('square_root(2):\\n', np.sqrt(2))"
   ],
   "outputs": [
    {
     "output_type": "stream",
     "name": "stdout",
     "text": [
      "norma(u):\n",
      " 1.4142135623730951\n",
      "square_root(2):\n",
      " 1.4142135623730951\n"
     ]
    }
   ],
   "metadata": {}
  },
  {
   "cell_type": "markdown",
   "source": [
    "Efectivamente la norma halla el valor de la raiz cuadrada de los elementos al cuadrado."
   ],
   "metadata": {}
  },
  {
   "cell_type": "markdown",
   "source": [
    "Ahora se comprueba la propiedad de la homogeneidad no negativa con el vector u y un escalar de 2.\n",
    "\n",
    "$2*u^T = [2,2]$ entonces la norma será $||2u|| = \\displaystyle\\sqrt{2^2 + 2^2} = \\displaystyle\\sqrt{8}$"
   ],
   "metadata": {}
  },
  {
   "cell_type": "code",
   "execution_count": 8,
   "source": [
    "# Se comprueba la propiedad de la homogeneidad no negativa\n",
    "print('norma(2u):\\n', norma(2*u))\n",
    "print('2*norma(u):\\n', 2*norma(u))"
   ],
   "outputs": [
    {
     "output_type": "stream",
     "name": "stdout",
     "text": [
      "norma(2u):\n",
      " 2.8284271247461903\n",
      "2*norma(u):\n",
      " 2.8284271247461903\n"
     ]
    }
   ],
   "metadata": {}
  },
  {
   "cell_type": "markdown",
   "source": [
    "De esta forma se comprueba la propiedad de la homogeneidad no negativa. Ahora se comprueba la propiedad de la desigualdad del triangulo, el cual esta dada por:\n",
    "\n",
    "* Desigualdad del triángulo: $||x+y|| \\le ||x|| + ||y||$ "
   ],
   "metadata": {}
  },
  {
   "cell_type": "code",
   "execution_count": 9,
   "source": [
    "# Se crea un nuevo vector\n",
    "v = np.array([-1,1])\n",
    "# Se comprueba la propiedad\n",
    "print('u:\\n', u)\n",
    "print('v:\\n', v)\n",
    "print('||u + v||:\\n', norma(u + v))\n",
    "print('¿Es verdad que ||u + v|| <= ||u|| + ||v||?: ', norma(u+v) <= norma(u) + norma(v))"
   ],
   "outputs": [
    {
     "output_type": "stream",
     "name": "stdout",
     "text": [
      "u:\n",
      " [1 1]\n",
      "v:\n",
      " [-1  1]\n",
      "||u + v||:\n",
      " 2.0\n",
      "¿Es verdad que ||u + v|| <= ||u|| + ||v||?:  True\n"
     ]
    }
   ],
   "metadata": {}
  },
  {
   "cell_type": "markdown",
   "source": [
    "Se comprueba la propiedad de la desigualdad triangular."
   ],
   "metadata": {}
  },
  {
   "cell_type": "markdown",
   "source": [
    "## Enlaces Externos\n",
    "\n",
    "[Colab Original](https://colab.research.google.com/drive/1pg6fxVEmEDlpou3JbEtnlZzcVckPGS8F?usp=sharing)"
   ],
   "metadata": {}
  }
 ],
 "metadata": {
  "kernelspec": {
   "name": "python3",
   "display_name": "Python 3.8.10 64-bit ('venv': venv)"
  },
  "language_info": {
   "codemirror_mode": {
    "name": "ipython",
    "version": 3
   },
   "file_extension": ".py",
   "mimetype": "text/x-python",
   "name": "python",
   "nbconvert_exporter": "python",
   "pygments_lexer": "ipython3",
   "version": "3.8.10"
  },
  "interpreter": {
   "hash": "402c3ce22046ee1ecb4526ff3875833594eb9f670609218e3d751b8e7c24a0d0"
  }
 },
 "nbformat": 4,
 "nbformat_minor": 4
}